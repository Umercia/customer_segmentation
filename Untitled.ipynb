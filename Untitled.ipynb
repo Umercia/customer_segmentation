{
 "cells": [
  {
   "cell_type": "code",
   "execution_count": 2,
   "metadata": {},
   "outputs": [],
   "source": [
    "import pandas as pd\n",
    "import numpy as np\n",
    "import matplotlib.pyplot as plt\n",
    "import seaborn as sns"
   ]
  },
  {
   "cell_type": "code",
   "execution_count": 3,
   "metadata": {},
   "outputs": [],
   "source": [
    "cust_df = pd.read_csv(\"./customer_df.csv\")"
   ]
  },
  {
   "cell_type": "code",
   "execution_count": 4,
   "metadata": {},
   "outputs": [
    {
     "data": {
      "text/html": [
       "<div>\n",
       "<style scoped>\n",
       "    .dataframe tbody tr th:only-of-type {\n",
       "        vertical-align: middle;\n",
       "    }\n",
       "\n",
       "    .dataframe tbody tr th {\n",
       "        vertical-align: top;\n",
       "    }\n",
       "\n",
       "    .dataframe thead th {\n",
       "        text-align: right;\n",
       "    }\n",
       "</style>\n",
       "<table border=\"1\" class=\"dataframe\">\n",
       "  <thead>\n",
       "    <tr style=\"text-align: right;\">\n",
       "      <th></th>\n",
       "      <th>CustomerID</th>\n",
       "      <th>recency</th>\n",
       "      <th>frequency</th>\n",
       "      <th>promo</th>\n",
       "      <th>total_basket</th>\n",
       "      <th>avg_basket</th>\n",
       "      <th>std_basket</th>\n",
       "      <th>total_nb_d_items</th>\n",
       "      <th>avg_nb_d_items</th>\n",
       "      <th>std_nb_d_items</th>\n",
       "      <th>total_quantity</th>\n",
       "      <th>avg_quantity</th>\n",
       "      <th>std_quantity</th>\n",
       "    </tr>\n",
       "  </thead>\n",
       "  <tbody>\n",
       "    <tr>\n",
       "      <th>0</th>\n",
       "      <td>12347.0</td>\n",
       "      <td>3</td>\n",
       "      <td>7</td>\n",
       "      <td>0.065934</td>\n",
       "      <td>4310.00</td>\n",
       "      <td>615.714286</td>\n",
       "      <td>341.070789</td>\n",
       "      <td>103</td>\n",
       "      <td>26.000000</td>\n",
       "      <td>11.430952</td>\n",
       "      <td>2458</td>\n",
       "      <td>351.142857</td>\n",
       "      <td>173.277647</td>\n",
       "    </tr>\n",
       "    <tr>\n",
       "      <th>1</th>\n",
       "      <td>12348.0</td>\n",
       "      <td>76</td>\n",
       "      <td>4</td>\n",
       "      <td>0.148148</td>\n",
       "      <td>1437.24</td>\n",
       "      <td>359.310000</td>\n",
       "      <td>203.875689</td>\n",
       "      <td>21</td>\n",
       "      <td>6.750000</td>\n",
       "      <td>6.291529</td>\n",
       "      <td>2332</td>\n",
       "      <td>583.000000</td>\n",
       "      <td>474.843132</td>\n",
       "    </tr>\n",
       "    <tr>\n",
       "      <th>2</th>\n",
       "      <td>12349.0</td>\n",
       "      <td>19</td>\n",
       "      <td>1</td>\n",
       "      <td>0.000000</td>\n",
       "      <td>1457.55</td>\n",
       "      <td>1457.550000</td>\n",
       "      <td>NaN</td>\n",
       "      <td>72</td>\n",
       "      <td>72.000000</td>\n",
       "      <td>NaN</td>\n",
       "      <td>630</td>\n",
       "      <td>630.000000</td>\n",
       "      <td>NaN</td>\n",
       "    </tr>\n",
       "    <tr>\n",
       "      <th>3</th>\n",
       "      <td>12350.0</td>\n",
       "      <td>311</td>\n",
       "      <td>1</td>\n",
       "      <td>0.062500</td>\n",
       "      <td>294.40</td>\n",
       "      <td>294.400000</td>\n",
       "      <td>NaN</td>\n",
       "      <td>16</td>\n",
       "      <td>16.000000</td>\n",
       "      <td>NaN</td>\n",
       "      <td>196</td>\n",
       "      <td>196.000000</td>\n",
       "      <td>NaN</td>\n",
       "    </tr>\n",
       "    <tr>\n",
       "      <th>4</th>\n",
       "      <td>12352.0</td>\n",
       "      <td>37</td>\n",
       "      <td>6</td>\n",
       "      <td>0.000000</td>\n",
       "      <td>1265.41</td>\n",
       "      <td>210.901667</td>\n",
       "      <td>81.523397</td>\n",
       "      <td>57</td>\n",
       "      <td>11.666667</td>\n",
       "      <td>5.046451</td>\n",
       "      <td>463</td>\n",
       "      <td>77.166667</td>\n",
       "      <td>37.139826</td>\n",
       "    </tr>\n",
       "  </tbody>\n",
       "</table>\n",
       "</div>"
      ],
      "text/plain": [
       "   CustomerID  recency  frequency     promo  total_basket   avg_basket  \\\n",
       "0     12347.0        3          7  0.065934       4310.00   615.714286   \n",
       "1     12348.0       76          4  0.148148       1437.24   359.310000   \n",
       "2     12349.0       19          1  0.000000       1457.55  1457.550000   \n",
       "3     12350.0      311          1  0.062500        294.40   294.400000   \n",
       "4     12352.0       37          6  0.000000       1265.41   210.901667   \n",
       "\n",
       "   std_basket  total_nb_d_items  avg_nb_d_items  std_nb_d_items  \\\n",
       "0  341.070789               103       26.000000       11.430952   \n",
       "1  203.875689                21        6.750000        6.291529   \n",
       "2         NaN                72       72.000000             NaN   \n",
       "3         NaN                16       16.000000             NaN   \n",
       "4   81.523397                57       11.666667        5.046451   \n",
       "\n",
       "   total_quantity  avg_quantity  std_quantity  \n",
       "0            2458    351.142857    173.277647  \n",
       "1            2332    583.000000    474.843132  \n",
       "2             630    630.000000           NaN  \n",
       "3             196    196.000000           NaN  \n",
       "4             463     77.166667     37.139826  "
      ]
     },
     "execution_count": 4,
     "metadata": {},
     "output_type": "execute_result"
    }
   ],
   "source": [
    "cust_df.head()"
   ]
  },
  {
   "cell_type": "code",
   "execution_count": 5,
   "metadata": {},
   "outputs": [],
   "source": [
    "features_selection = ['recency', 'frequency', 'promo', 'total_basket',\n",
    "       'avg_basket', 'total_nb_d_items', 'avg_nb_d_items',\n",
    "       'total_quantity', 'avg_quantity']\n",
    "\n",
    "X = cust_df.loc[:,features_selection]"
   ]
  },
  {
   "cell_type": "markdown",
   "metadata": {},
   "source": [
    "## PCA"
   ]
  },
  {
   "cell_type": "code",
   "execution_count": 6,
   "metadata": {},
   "outputs": [
    {
     "name": "stderr",
     "output_type": "stream",
     "text": [
      "C:\\Users\\ben\\Anaconda3\\lib\\site-packages\\ipykernel_launcher.py:7: DataConversionWarning: Data with input dtype int64, float64 were all converted to float64 by the scale function.\n",
      "  import sys\n"
     ]
    },
    {
     "data": {
      "image/png": "[encoded data removed]",
      "text/plain": [
       "<Figure size 720x432 with 1 Axes>"
      ]
     },
     "metadata": {
      "needs_background": "light"
     },
     "output_type": "display_data"
    }
   ],
   "source": [
    "# Perform PCA\n",
    "from sklearn.decomposition import PCA\n",
    "from sklearn import preprocessing\n",
    "import numpy as np\n",
    "\n",
    "# scale inputs\n",
    "X_scal = preprocessing.scale(X)\n",
    "X_scal = pd.DataFrame(X_scal,columns=features_selection)\n",
    "\n",
    "# model\n",
    "pca = PCA()  # create a PCA object\n",
    "pca.fit(X_scal)  # do the math\n",
    "\n",
    "# get PCA coordinates for scaled_data (return nparray)\n",
    "pca_data = pca.transform(X_scal)\n",
    "\n",
    "# Draw a scree plot and a PCA plot\n",
    "per_var = np.round(pca.explained_variance_ratio_[:10] * 100, decimals=1)\n",
    "labels = ['PC' + str(x) for x in range(1, len(per_var)+1)]\n",
    "\n",
    "plt.figure(figsize=(10, 6))\n",
    "plt.bar(x=range(1, len(per_var)+1), height=per_var, tick_label=labels)\n",
    "plt.ylabel('Percentage of Explained Variance', size=16)\n",
    "plt.xlabel('Principal Component', size=16)\n",
    "plt.title(\"Scree Plot\", size=18, fontweight=\"bold\")\n",
    "plt.show()"
   ]
  },
  {
   "cell_type": "code",
   "execution_count": 7,
   "metadata": {
    "scrolled": false
   },
   "outputs": [
    {
     "data": {
      "text/plain": [
       "<Figure size 720x720 with 0 Axes>"
      ]
     },
     "metadata": {},
     "output_type": "display_data"
    },
    {
     "data": {
      "image/png": "[encoded data removed]",
      "text/plain": [
       "<Figure size 504x432 with 1 Axes>"
      ]
     },
     "metadata": {
      "needs_background": "light"
     },
     "output_type": "display_data"
    }
   ],
   "source": [
    "# Movies selection in 2D (PC1-PC2)\n",
    "plt.figure(figsize=(10, 10))\n",
    "per_var = np.round(pca.explained_variance_ratio_ * 100, decimals=1)\n",
    "labels = ['PC' + str(x) for x in range(1, len(per_var)+1)]\n",
    "plt.figure(figsize=(7, 6))\n",
    "# inputs plot 2\n",
    "pcs = pca.components_\n",
    "\n",
    "# plot 2\n",
    "for i, (x, y) in enumerate(zip(pcs[0, :], pcs[1, :])):\n",
    "    # Afficher un segment de l'origine au point (x, y)\n",
    "    plt.plot([0, x], [0, y], color='k')\n",
    "    # Afficher le nom (data.columns[i]) de la performance\n",
    "    plt.text(x, y, features_selection[i], fontsize='10')\n",
    "    plt.title(\"features contribution of the two first PCs\",\n",
    "              size=18,\n",
    "              fontweight=\"bold\")\n",
    "\n",
    "plt.xlabel('PC1 - {0}%'.format(per_var[0]), size=16)\n",
    "plt.ylabel('PC2 - {0}%'.format(per_var[1]), size=16)\n",
    "# Afficher les lignes horizontale y=0 et verticale x=0\n",
    "plt.plot([-0.7, 0.7], [0, 0], color='grey', ls='--')\n",
    "plt.plot([0, 0], [-0.7, 0.7], color='grey', ls='--')\n",
    "plt.show();"
   ]
  },
  {
   "cell_type": "code",
   "execution_count": 8,
   "metadata": {},
   "outputs": [
    {
     "data": {
      "text/html": [
       "<div>\n",
       "<style scoped>\n",
       "    .dataframe tbody tr th:only-of-type {\n",
       "        vertical-align: middle;\n",
       "    }\n",
       "\n",
       "    .dataframe tbody tr th {\n",
       "        vertical-align: top;\n",
       "    }\n",
       "\n",
       "    .dataframe thead th {\n",
       "        text-align: right;\n",
       "    }\n",
       "</style>\n",
       "<table border=\"1\" class=\"dataframe\">\n",
       "  <thead>\n",
       "    <tr style=\"text-align: right;\">\n",
       "      <th></th>\n",
       "      <th>feat_contrib_PC1</th>\n",
       "    </tr>\n",
       "  </thead>\n",
       "  <tbody>\n",
       "    <tr>\n",
       "      <th>total_quantity</th>\n",
       "      <td>0.463039</td>\n",
       "    </tr>\n",
       "    <tr>\n",
       "      <th>total_basket</th>\n",
       "      <td>0.454683</td>\n",
       "    </tr>\n",
       "    <tr>\n",
       "      <th>frequency</th>\n",
       "      <td>0.373094</td>\n",
       "    </tr>\n",
       "    <tr>\n",
       "      <th>total_nb_d_items</th>\n",
       "      <td>0.368335</td>\n",
       "    </tr>\n",
       "    <tr>\n",
       "      <th>avg_basket</th>\n",
       "      <td>0.352477</td>\n",
       "    </tr>\n",
       "    <tr>\n",
       "      <th>avg_quantity</th>\n",
       "      <td>0.330563</td>\n",
       "    </tr>\n",
       "    <tr>\n",
       "      <th>avg_nb_d_items</th>\n",
       "      <td>0.167683</td>\n",
       "    </tr>\n",
       "    <tr>\n",
       "      <th>recency</th>\n",
       "      <td>0.156697</td>\n",
       "    </tr>\n",
       "    <tr>\n",
       "      <th>promo</th>\n",
       "      <td>0.133435</td>\n",
       "    </tr>\n",
       "  </tbody>\n",
       "</table>\n",
       "</div>"
      ],
      "text/plain": [
       "                  feat_contrib_PC1\n",
       "total_quantity            0.463039\n",
       "total_basket              0.454683\n",
       "frequency                 0.373094\n",
       "total_nb_d_items          0.368335\n",
       "avg_basket                0.352477\n",
       "avg_quantity              0.330563\n",
       "avg_nb_d_items            0.167683\n",
       "recency                   0.156697\n",
       "promo                     0.133435"
      ]
     },
     "execution_count": 8,
     "metadata": {},
     "output_type": "execute_result"
    }
   ],
   "source": [
    "# extraction of first pca_components\n",
    "pca_components = pd.DataFrame(data= pcs[0, :],\n",
    "                              index=X.columns,\n",
    "                              columns=[\"feat_contrib_PC1\"])\n",
    "pca_components.abs().sort_values(by=\"feat_contrib_PC1\",\n",
    "                                 ascending= False)"
   ]
  },
  {
   "cell_type": "markdown",
   "metadata": {},
   "source": [
    "Obviously quantity is directly linked with the basket\n",
    "and \"average\" and \"total\" are linked with frequency (total = freq * avg)\n",
    "Customer ID should not be used"
   ]
  },
  {
   "cell_type": "code",
   "execution_count": 9,
   "metadata": {},
   "outputs": [
    {
     "data": {
      "text/plain": [
       "Index(['frequency', 'avg_basket', 'avg_nb_d_items', 'recency', 'promo'], dtype='object')"
      ]
     },
     "execution_count": 9,
     "metadata": {},
     "output_type": "execute_result"
    }
   ],
   "source": [
    "# feature filtering\n",
    "features_selection2 = pca_components.abs().sort_values(by=\"feat_contrib_PC1\", \n",
    "                                 ascending=False).index\n",
    "features_selection2 = features_selection2.drop([\"total_quantity\",\n",
    "                                                \"avg_quantity\",\n",
    "                                                \"total_basket\",\n",
    "                                                \"total_nb_d_items\"])\n",
    "features_selection2"
   ]
  },
  {
   "cell_type": "code",
   "execution_count": 10,
   "metadata": {
    "scrolled": true
   },
   "outputs": [
    {
     "data": {
      "text/html": [
       "<div>\n",
       "<style scoped>\n",
       "    .dataframe tbody tr th:only-of-type {\n",
       "        vertical-align: middle;\n",
       "    }\n",
       "\n",
       "    .dataframe tbody tr th {\n",
       "        vertical-align: top;\n",
       "    }\n",
       "\n",
       "    .dataframe thead th {\n",
       "        text-align: right;\n",
       "    }\n",
       "</style>\n",
       "<table border=\"1\" class=\"dataframe\">\n",
       "  <thead>\n",
       "    <tr style=\"text-align: right;\">\n",
       "      <th></th>\n",
       "      <th>frequency</th>\n",
       "      <th>avg_basket</th>\n",
       "      <th>avg_nb_d_items</th>\n",
       "      <th>recency</th>\n",
       "      <th>promo</th>\n",
       "    </tr>\n",
       "  </thead>\n",
       "  <tbody>\n",
       "    <tr>\n",
       "      <th>0</th>\n",
       "      <td>0.366494</td>\n",
       "      <td>0.533485</td>\n",
       "      <td>0.205497</td>\n",
       "      <td>-0.901281</td>\n",
       "      <td>-0.152965</td>\n",
       "    </tr>\n",
       "    <tr>\n",
       "      <th>1</th>\n",
       "      <td>-0.029983</td>\n",
       "      <td>-0.028591</td>\n",
       "      <td>-0.758240</td>\n",
       "      <td>-0.173081</td>\n",
       "      <td>0.239355</td>\n",
       "    </tr>\n",
       "    <tr>\n",
       "      <th>2</th>\n",
       "      <td>-0.426461</td>\n",
       "      <td>2.378915</td>\n",
       "      <td>2.508451</td>\n",
       "      <td>-0.741675</td>\n",
       "      <td>-0.467598</td>\n",
       "    </tr>\n",
       "    <tr>\n",
       "      <th>3</th>\n",
       "      <td>-0.426461</td>\n",
       "      <td>-0.170884</td>\n",
       "      <td>-0.295146</td>\n",
       "      <td>2.171126</td>\n",
       "      <td>-0.169352</td>\n",
       "    </tr>\n",
       "    <tr>\n",
       "      <th>4</th>\n",
       "      <td>0.234335</td>\n",
       "      <td>-0.353925</td>\n",
       "      <td>-0.512091</td>\n",
       "      <td>-0.562119</td>\n",
       "      <td>-0.467598</td>\n",
       "    </tr>\n",
       "  </tbody>\n",
       "</table>\n",
       "</div>"
      ],
      "text/plain": [
       "   frequency  avg_basket  avg_nb_d_items   recency     promo\n",
       "0   0.366494    0.533485        0.205497 -0.901281 -0.152965\n",
       "1  -0.029983   -0.028591       -0.758240 -0.173081  0.239355\n",
       "2  -0.426461    2.378915        2.508451 -0.741675 -0.467598\n",
       "3  -0.426461   -0.170884       -0.295146  2.171126 -0.169352\n",
       "4   0.234335   -0.353925       -0.512091 -0.562119 -0.467598"
      ]
     },
     "execution_count": 10,
     "metadata": {},
     "output_type": "execute_result"
    }
   ],
   "source": [
    "X_scal = X_scal.loc[:, features_selection2]\n",
    "X_scal.head()"
   ]
  },
  {
   "cell_type": "markdown",
   "metadata": {},
   "source": [
    "## Kmean"
   ]
  },
  {
   "cell_type": "code",
   "execution_count": 11,
   "metadata": {},
   "outputs": [],
   "source": [
    "from sklearn.cluster import KMeans\n",
    "from sklearn import cluster, metrics\n",
    "\n",
    "# silhouettes plot\n",
    "# init = 'k-means++'\n",
    "min_cluster = 3\n",
    "max_cluster = 12\n",
    "max_features = X_scal.shape[1]\n",
    "min_features = 3\n",
    "silhouettes_df = pd.DataFrame(0, \n",
    "                             index=np.arange(min_cluster,max_cluster), \n",
    "                             columns=np.arange(min_features,max_features+1))\n",
    "\n",
    "for nb_features in range(min_features,max_features+1):\n",
    "    sub_X = X_scal.iloc[:,:nb_features]\n",
    "\n",
    "    silhouettes = []\n",
    "    for num_clusters in range(min_cluster, max_cluster, 1):\n",
    "        kmeans = KMeans(n_clusters=num_clusters, n_init=10, init=\"k-means++\")\n",
    "        kmeans.fit(sub_X)\n",
    "        silh = metrics.silhouette_score(sub_X, kmeans.labels_)\n",
    "        silhouettes.append(silh)\n",
    "    silhouettes_df[nb_features] = silhouettes\n"
   ]
  },
  {
   "cell_type": "code",
   "execution_count": 12,
   "metadata": {},
   "outputs": [
    {
     "data": {
      "image/png": "[encoded data removed]",
      "text/plain": [
       "<Figure size 432x288 with 2 Axes>"
      ]
     },
     "metadata": {
      "needs_background": "light"
     },
     "output_type": "display_data"
    }
   ],
   "source": [
    "# Silhouettes plot\n",
    "sns.heatmap(silhouettes_df, annot=True, cmap=\"RdYlGn_r\")\n",
    "plt.title(\"Silhouettes Kmeans\")\n",
    "plt.xlabel(\"number of features\")\n",
    "plt.ylabel(\"number of cluster\")\n",
    "plt.show()"
   ]
  },
  {
   "cell_type": "code",
   "execution_count": 13,
   "metadata": {
    "scrolled": true
   },
   "outputs": [
    {
     "data": {
      "text/plain": [
       "0.41116615739773965"
      ]
     },
     "execution_count": 13,
     "metadata": {},
     "output_type": "execute_result"
    }
   ],
   "source": [
    "# we choose number of cluster = 5 and number of feature = 4 (to get )\n",
    "nb_features = 4 \n",
    "num_clusters = 5\n",
    "sub_X = X_scal.iloc[:,:nb_features]\n",
    "\n",
    "kmeans = KMeans(n_clusters=num_clusters, n_init=10, init=\"k-means++\")\n",
    "kmeans.fit(sub_X)\n",
    "silh = metrics.silhouette_score(sub_X, kmeans.labels_)\n",
    "silh"
   ]
  },
  {
   "cell_type": "code",
   "execution_count": 14,
   "metadata": {},
   "outputs": [
    {
     "data": {
      "text/plain": [
       "Index(['frequency', 'avg_basket', 'avg_nb_d_items', 'recency'], dtype='object')"
      ]
     },
     "execution_count": 14,
     "metadata": {},
     "output_type": "execute_result"
    }
   ],
   "source": [
    "features_selection2[:nb_features]"
   ]
  },
  {
   "cell_type": "code",
   "execution_count": 15,
   "metadata": {
    "scrolled": true
   },
   "outputs": [
    {
     "data": {
      "text/html": [
       "<div>\n",
       "<style scoped>\n",
       "    .dataframe tbody tr th:only-of-type {\n",
       "        vertical-align: middle;\n",
       "    }\n",
       "\n",
       "    .dataframe tbody tr th {\n",
       "        vertical-align: top;\n",
       "    }\n",
       "\n",
       "    .dataframe thead th {\n",
       "        text-align: right;\n",
       "    }\n",
       "</style>\n",
       "<table border=\"1\" class=\"dataframe\">\n",
       "  <thead>\n",
       "    <tr style=\"text-align: right;\">\n",
       "      <th></th>\n",
       "      <th>frequency</th>\n",
       "      <th>avg_basket</th>\n",
       "      <th>avg_nb_d_items</th>\n",
       "      <th>recency</th>\n",
       "    </tr>\n",
       "  </thead>\n",
       "  <tbody>\n",
       "    <tr>\n",
       "      <th>0</th>\n",
       "      <td>-0.351916</td>\n",
       "      <td>-0.229974</td>\n",
       "      <td>-0.334190</td>\n",
       "      <td>1.570267</td>\n",
       "    </tr>\n",
       "    <tr>\n",
       "      <th>1</th>\n",
       "      <td>0.080796</td>\n",
       "      <td>-0.123472</td>\n",
       "      <td>-0.289829</td>\n",
       "      <td>-0.506849</td>\n",
       "    </tr>\n",
       "    <tr>\n",
       "      <th>2</th>\n",
       "      <td>-0.121329</td>\n",
       "      <td>0.493154</td>\n",
       "      <td>1.705028</td>\n",
       "      <td>-0.349132</td>\n",
       "    </tr>\n",
       "    <tr>\n",
       "      <th>3</th>\n",
       "      <td>0.412241</td>\n",
       "      <td>8.717922</td>\n",
       "      <td>2.583851</td>\n",
       "      <td>-0.079849</td>\n",
       "    </tr>\n",
       "    <tr>\n",
       "      <th>4</th>\n",
       "      <td>9.674268</td>\n",
       "      <td>1.490218</td>\n",
       "      <td>-0.179186</td>\n",
       "      <td>-0.871830</td>\n",
       "    </tr>\n",
       "  </tbody>\n",
       "</table>\n",
       "</div>"
      ],
      "text/plain": [
       "   frequency  avg_basket  avg_nb_d_items   recency\n",
       "0  -0.351916   -0.229974       -0.334190  1.570267\n",
       "1   0.080796   -0.123472       -0.289829 -0.506849\n",
       "2  -0.121329    0.493154        1.705028 -0.349132\n",
       "3   0.412241    8.717922        2.583851 -0.079849\n",
       "4   9.674268    1.490218       -0.179186 -0.871830"
      ]
     },
     "execution_count": 15,
     "metadata": {},
     "output_type": "execute_result"
    }
   ],
   "source": [
    "# extract cluster's centers\n",
    "km_centers = pd.DataFrame(kmeans.cluster_centers_, columns=features_selection2[:nb_features])\n",
    "km_centers"
   ]
  },
  {
   "cell_type": "code",
   "execution_count": 16,
   "metadata": {},
   "outputs": [
    {
     "data": {
      "text/html": [
       "<div>\n",
       "<style scoped>\n",
       "    .dataframe tbody tr th:only-of-type {\n",
       "        vertical-align: middle;\n",
       "    }\n",
       "\n",
       "    .dataframe tbody tr th {\n",
       "        vertical-align: top;\n",
       "    }\n",
       "\n",
       "    .dataframe thead th {\n",
       "        text-align: right;\n",
       "    }\n",
       "</style>\n",
       "<table border=\"1\" class=\"dataframe\">\n",
       "  <thead>\n",
       "    <tr style=\"text-align: right;\">\n",
       "      <th></th>\n",
       "      <th>recency</th>\n",
       "      <th>frequency</th>\n",
       "      <th>promo</th>\n",
       "      <th>total_basket</th>\n",
       "      <th>avg_basket</th>\n",
       "      <th>avg_nb_d_items</th>\n",
       "      <th>avg_quantity</th>\n",
       "      <th>0</th>\n",
       "    </tr>\n",
       "  </thead>\n",
       "  <tbody>\n",
       "    <tr>\n",
       "      <th>3653</th>\n",
       "      <td>239</td>\n",
       "      <td>1</td>\n",
       "      <td>0.000000</td>\n",
       "      <td>167.55</td>\n",
       "      <td>167.550000</td>\n",
       "      <td>33.000000</td>\n",
       "      <td>149.000000</td>\n",
       "      <td>0</td>\n",
       "    </tr>\n",
       "    <tr>\n",
       "      <th>2416</th>\n",
       "      <td>19</td>\n",
       "      <td>1</td>\n",
       "      <td>0.019608</td>\n",
       "      <td>611.59</td>\n",
       "      <td>611.590000</td>\n",
       "      <td>51.000000</td>\n",
       "      <td>255.000000</td>\n",
       "      <td>2</td>\n",
       "    </tr>\n",
       "    <tr>\n",
       "      <th>520</th>\n",
       "      <td>358</td>\n",
       "      <td>1</td>\n",
       "      <td>0.545455</td>\n",
       "      <td>190.55</td>\n",
       "      <td>190.550000</td>\n",
       "      <td>11.000000</td>\n",
       "      <td>83.000000</td>\n",
       "      <td>0</td>\n",
       "    </tr>\n",
       "    <tr>\n",
       "      <th>1876</th>\n",
       "      <td>71</td>\n",
       "      <td>4</td>\n",
       "      <td>0.116883</td>\n",
       "      <td>1268.98</td>\n",
       "      <td>317.245000</td>\n",
       "      <td>19.250000</td>\n",
       "      <td>284.000000</td>\n",
       "      <td>1</td>\n",
       "    </tr>\n",
       "    <tr>\n",
       "      <th>3645</th>\n",
       "      <td>25</td>\n",
       "      <td>2</td>\n",
       "      <td>0.022727</td>\n",
       "      <td>384.39</td>\n",
       "      <td>192.195000</td>\n",
       "      <td>22.000000</td>\n",
       "      <td>76.000000</td>\n",
       "      <td>1</td>\n",
       "    </tr>\n",
       "    <tr>\n",
       "      <th>3105</th>\n",
       "      <td>5</td>\n",
       "      <td>1</td>\n",
       "      <td>0.857143</td>\n",
       "      <td>90.04</td>\n",
       "      <td>90.040000</td>\n",
       "      <td>7.000000</td>\n",
       "      <td>184.000000</td>\n",
       "      <td>1</td>\n",
       "    </tr>\n",
       "    <tr>\n",
       "      <th>1034</th>\n",
       "      <td>54</td>\n",
       "      <td>5</td>\n",
       "      <td>0.250000</td>\n",
       "      <td>1647.26</td>\n",
       "      <td>329.452000</td>\n",
       "      <td>4.800000</td>\n",
       "      <td>103.200000</td>\n",
       "      <td>1</td>\n",
       "    </tr>\n",
       "    <tr>\n",
       "      <th>851</th>\n",
       "      <td>312</td>\n",
       "      <td>1</td>\n",
       "      <td>0.055556</td>\n",
       "      <td>316.26</td>\n",
       "      <td>316.260000</td>\n",
       "      <td>18.000000</td>\n",
       "      <td>162.000000</td>\n",
       "      <td>0</td>\n",
       "    </tr>\n",
       "    <tr>\n",
       "      <th>2771</th>\n",
       "      <td>60</td>\n",
       "      <td>3</td>\n",
       "      <td>0.000000</td>\n",
       "      <td>709.38</td>\n",
       "      <td>236.460000</td>\n",
       "      <td>12.333333</td>\n",
       "      <td>146.666667</td>\n",
       "      <td>1</td>\n",
       "    </tr>\n",
       "    <tr>\n",
       "      <th>4000</th>\n",
       "      <td>107</td>\n",
       "      <td>1</td>\n",
       "      <td>0.000000</td>\n",
       "      <td>51.56</td>\n",
       "      <td>51.560000</td>\n",
       "      <td>5.000000</td>\n",
       "      <td>52.000000</td>\n",
       "      <td>1</td>\n",
       "    </tr>\n",
       "    <tr>\n",
       "      <th>3451</th>\n",
       "      <td>115</td>\n",
       "      <td>1</td>\n",
       "      <td>0.000000</td>\n",
       "      <td>304.24</td>\n",
       "      <td>304.240000</td>\n",
       "      <td>62.000000</td>\n",
       "      <td>131.000000</td>\n",
       "      <td>2</td>\n",
       "    </tr>\n",
       "    <tr>\n",
       "      <th>1305</th>\n",
       "      <td>123</td>\n",
       "      <td>3</td>\n",
       "      <td>0.022727</td>\n",
       "      <td>709.71</td>\n",
       "      <td>236.570000</td>\n",
       "      <td>14.666667</td>\n",
       "      <td>107.000000</td>\n",
       "      <td>1</td>\n",
       "    </tr>\n",
       "    <tr>\n",
       "      <th>1524</th>\n",
       "      <td>99</td>\n",
       "      <td>1</td>\n",
       "      <td>0.000000</td>\n",
       "      <td>89.06</td>\n",
       "      <td>89.060000</td>\n",
       "      <td>9.000000</td>\n",
       "      <td>129.000000</td>\n",
       "      <td>1</td>\n",
       "    </tr>\n",
       "    <tr>\n",
       "      <th>434</th>\n",
       "      <td>3</td>\n",
       "      <td>5</td>\n",
       "      <td>0.750000</td>\n",
       "      <td>1662.30</td>\n",
       "      <td>332.460000</td>\n",
       "      <td>4.800000</td>\n",
       "      <td>134.000000</td>\n",
       "      <td>1</td>\n",
       "    </tr>\n",
       "    <tr>\n",
       "      <th>639</th>\n",
       "      <td>12</td>\n",
       "      <td>4</td>\n",
       "      <td>0.009091</td>\n",
       "      <td>1797.78</td>\n",
       "      <td>449.445000</td>\n",
       "      <td>27.500000</td>\n",
       "      <td>306.000000</td>\n",
       "      <td>1</td>\n",
       "    </tr>\n",
       "    <tr>\n",
       "      <th>2863</th>\n",
       "      <td>267</td>\n",
       "      <td>1</td>\n",
       "      <td>0.538462</td>\n",
       "      <td>752.43</td>\n",
       "      <td>752.430000</td>\n",
       "      <td>13.000000</td>\n",
       "      <td>581.000000</td>\n",
       "      <td>0</td>\n",
       "    </tr>\n",
       "    <tr>\n",
       "      <th>940</th>\n",
       "      <td>41</td>\n",
       "      <td>3</td>\n",
       "      <td>0.000000</td>\n",
       "      <td>544.18</td>\n",
       "      <td>181.393333</td>\n",
       "      <td>14.666667</td>\n",
       "      <td>100.000000</td>\n",
       "      <td>1</td>\n",
       "    </tr>\n",
       "    <tr>\n",
       "      <th>1662</th>\n",
       "      <td>2</td>\n",
       "      <td>5</td>\n",
       "      <td>0.043478</td>\n",
       "      <td>1788.36</td>\n",
       "      <td>357.672000</td>\n",
       "      <td>18.400000</td>\n",
       "      <td>198.600000</td>\n",
       "      <td>1</td>\n",
       "    </tr>\n",
       "    <tr>\n",
       "      <th>4060</th>\n",
       "      <td>283</td>\n",
       "      <td>1</td>\n",
       "      <td>1.000000</td>\n",
       "      <td>207.50</td>\n",
       "      <td>207.500000</td>\n",
       "      <td>1.000000</td>\n",
       "      <td>50.000000</td>\n",
       "      <td>0</td>\n",
       "    </tr>\n",
       "    <tr>\n",
       "      <th>436</th>\n",
       "      <td>149</td>\n",
       "      <td>2</td>\n",
       "      <td>0.000000</td>\n",
       "      <td>363.65</td>\n",
       "      <td>181.825000</td>\n",
       "      <td>11.000000</td>\n",
       "      <td>46.500000</td>\n",
       "      <td>0</td>\n",
       "    </tr>\n",
       "    <tr>\n",
       "      <th>3927</th>\n",
       "      <td>373</td>\n",
       "      <td>1</td>\n",
       "      <td>0.222222</td>\n",
       "      <td>303.97</td>\n",
       "      <td>303.970000</td>\n",
       "      <td>18.000000</td>\n",
       "      <td>93.000000</td>\n",
       "      <td>0</td>\n",
       "    </tr>\n",
       "    <tr>\n",
       "      <th>1410</th>\n",
       "      <td>74</td>\n",
       "      <td>2</td>\n",
       "      <td>0.060606</td>\n",
       "      <td>437.96</td>\n",
       "      <td>218.980000</td>\n",
       "      <td>16.500000</td>\n",
       "      <td>299.500000</td>\n",
       "      <td>1</td>\n",
       "    </tr>\n",
       "    <tr>\n",
       "      <th>973</th>\n",
       "      <td>61</td>\n",
       "      <td>3</td>\n",
       "      <td>0.000000</td>\n",
       "      <td>84.65</td>\n",
       "      <td>28.216667</td>\n",
       "      <td>4.000000</td>\n",
       "      <td>13.666667</td>\n",
       "      <td>1</td>\n",
       "    </tr>\n",
       "    <tr>\n",
       "      <th>3400</th>\n",
       "      <td>150</td>\n",
       "      <td>3</td>\n",
       "      <td>1.000000</td>\n",
       "      <td>287.50</td>\n",
       "      <td>95.833333</td>\n",
       "      <td>1.000000</td>\n",
       "      <td>24.666667</td>\n",
       "      <td>0</td>\n",
       "    </tr>\n",
       "    <tr>\n",
       "      <th>2308</th>\n",
       "      <td>363</td>\n",
       "      <td>1</td>\n",
       "      <td>0.060606</td>\n",
       "      <td>141.04</td>\n",
       "      <td>141.040000</td>\n",
       "      <td>66.000000</td>\n",
       "      <td>70.000000</td>\n",
       "      <td>0</td>\n",
       "    </tr>\n",
       "    <tr>\n",
       "      <th>16</th>\n",
       "      <td>8</td>\n",
       "      <td>4</td>\n",
       "      <td>0.012346</td>\n",
       "      <td>1208.10</td>\n",
       "      <td>302.025000</td>\n",
       "      <td>20.250000</td>\n",
       "      <td>374.750000</td>\n",
       "      <td>1</td>\n",
       "    </tr>\n",
       "    <tr>\n",
       "      <th>189</th>\n",
       "      <td>18</td>\n",
       "      <td>1</td>\n",
       "      <td>0.000000</td>\n",
       "      <td>196.94</td>\n",
       "      <td>196.940000</td>\n",
       "      <td>11.000000</td>\n",
       "      <td>79.000000</td>\n",
       "      <td>1</td>\n",
       "    </tr>\n",
       "    <tr>\n",
       "      <th>980</th>\n",
       "      <td>152</td>\n",
       "      <td>2</td>\n",
       "      <td>0.000000</td>\n",
       "      <td>486.82</td>\n",
       "      <td>243.410000</td>\n",
       "      <td>12.500000</td>\n",
       "      <td>165.000000</td>\n",
       "      <td>0</td>\n",
       "    </tr>\n",
       "    <tr>\n",
       "      <th>2610</th>\n",
       "      <td>174</td>\n",
       "      <td>1</td>\n",
       "      <td>0.285714</td>\n",
       "      <td>191.94</td>\n",
       "      <td>191.940000</td>\n",
       "      <td>7.000000</td>\n",
       "      <td>98.000000</td>\n",
       "      <td>0</td>\n",
       "    </tr>\n",
       "    <tr>\n",
       "      <th>2569</th>\n",
       "      <td>20</td>\n",
       "      <td>2</td>\n",
       "      <td>0.000000</td>\n",
       "      <td>234.88</td>\n",
       "      <td>117.440000</td>\n",
       "      <td>46.500000</td>\n",
       "      <td>149.000000</td>\n",
       "      <td>2</td>\n",
       "    </tr>\n",
       "  </tbody>\n",
       "</table>\n",
       "</div>"
      ],
      "text/plain": [
       "      recency  frequency     promo  total_basket  avg_basket  avg_nb_d_items  \\\n",
       "3653      239          1  0.000000        167.55  167.550000       33.000000   \n",
       "2416       19          1  0.019608        611.59  611.590000       51.000000   \n",
       "520       358          1  0.545455        190.55  190.550000       11.000000   \n",
       "1876       71          4  0.116883       1268.98  317.245000       19.250000   \n",
       "3645       25          2  0.022727        384.39  192.195000       22.000000   \n",
       "3105        5          1  0.857143         90.04   90.040000        7.000000   \n",
       "1034       54          5  0.250000       1647.26  329.452000        4.800000   \n",
       "851       312          1  0.055556        316.26  316.260000       18.000000   \n",
       "2771       60          3  0.000000        709.38  236.460000       12.333333   \n",
       "4000      107          1  0.000000         51.56   51.560000        5.000000   \n",
       "3451      115          1  0.000000        304.24  304.240000       62.000000   \n",
       "1305      123          3  0.022727        709.71  236.570000       14.666667   \n",
       "1524       99          1  0.000000         89.06   89.060000        9.000000   \n",
       "434         3          5  0.750000       1662.30  332.460000        4.800000   \n",
       "639        12          4  0.009091       1797.78  449.445000       27.500000   \n",
       "2863      267          1  0.538462        752.43  752.430000       13.000000   \n",
       "940        41          3  0.000000        544.18  181.393333       14.666667   \n",
       "1662        2          5  0.043478       1788.36  357.672000       18.400000   \n",
       "4060      283          1  1.000000        207.50  207.500000        1.000000   \n",
       "436       149          2  0.000000        363.65  181.825000       11.000000   \n",
       "3927      373          1  0.222222        303.97  303.970000       18.000000   \n",
       "1410       74          2  0.060606        437.96  218.980000       16.500000   \n",
       "973        61          3  0.000000         84.65   28.216667        4.000000   \n",
       "3400      150          3  1.000000        287.50   95.833333        1.000000   \n",
       "2308      363          1  0.060606        141.04  141.040000       66.000000   \n",
       "16          8          4  0.012346       1208.10  302.025000       20.250000   \n",
       "189        18          1  0.000000        196.94  196.940000       11.000000   \n",
       "980       152          2  0.000000        486.82  243.410000       12.500000   \n",
       "2610      174          1  0.285714        191.94  191.940000        7.000000   \n",
       "2569       20          2  0.000000        234.88  117.440000       46.500000   \n",
       "\n",
       "      avg_quantity  0  \n",
       "3653    149.000000  0  \n",
       "2416    255.000000  2  \n",
       "520      83.000000  0  \n",
       "1876    284.000000  1  \n",
       "3645     76.000000  1  \n",
       "3105    184.000000  1  \n",
       "1034    103.200000  1  \n",
       "851     162.000000  0  \n",
       "2771    146.666667  1  \n",
       "4000     52.000000  1  \n",
       "3451    131.000000  2  \n",
       "1305    107.000000  1  \n",
       "1524    129.000000  1  \n",
       "434     134.000000  1  \n",
       "639     306.000000  1  \n",
       "2863    581.000000  0  \n",
       "940     100.000000  1  \n",
       "1662    198.600000  1  \n",
       "4060     50.000000  0  \n",
       "436      46.500000  0  \n",
       "3927     93.000000  0  \n",
       "1410    299.500000  1  \n",
       "973      13.666667  1  \n",
       "3400     24.666667  0  \n",
       "2308     70.000000  0  \n",
       "16      374.750000  1  \n",
       "189      79.000000  1  \n",
       "980     165.000000  0  \n",
       "2610     98.000000  0  \n",
       "2569    149.000000  2  "
      ]
     },
     "execution_count": 16,
     "metadata": {},
     "output_type": "execute_result"
    }
   ],
   "source": [
    "y = kmeans.labels_\n",
    "cust_df.join(pd.DataFrame(y)).sample(30).drop([\"CustomerID\",\n",
    "                                              \"std_quantity\",\n",
    "                                               \"total_quantity\",\n",
    "                                               \"std_nb_d_items\",\n",
    "                                               \"total_nb_d_items\",\n",
    "                                               \"std_basket\"], axis=1)"
   ]
  },
  {
   "cell_type": "code",
   "execution_count": 17,
   "metadata": {},
   "outputs": [
    {
     "data": {
      "text/plain": [
       "1    2658\n",
       "0    1007\n",
       "2     612\n",
       "3      26\n",
       "4      21\n",
       "dtype: int64"
      ]
     },
     "execution_count": 17,
     "metadata": {},
     "output_type": "execute_result"
    }
   ],
   "source": [
    "pd.value_counts(kmeans.labels_)"
   ]
  },
  {
   "cell_type": "code",
   "execution_count": 18,
   "metadata": {},
   "outputs": [
    {
     "data": {
      "text/plain": [
       "4324"
      ]
     },
     "execution_count": 18,
     "metadata": {},
     "output_type": "execute_result"
    }
   ],
   "source": [
    "len(kmeans.labels_)"
   ]
  },
  {
   "cell_type": "code",
   "execution_count": 19,
   "metadata": {},
   "outputs": [],
   "source": [
    "pca = PCA()  # create a PCA object\n",
    "pca.fit(sub_X)  # do the math\n",
    "labels = ['PC' + str(x) for x in range(1, len(sub_X.columns)+1)]\n",
    "# get PCA coordinates for scaled_data (return nparray)\n",
    "pca_data = pca.transform(sub_X)\n",
    "pca_center = pca.transform(kmeans.cluster_centers_)"
   ]
  },
  {
   "cell_type": "code",
   "execution_count": 20,
   "metadata": {
    "scrolled": true
   },
   "outputs": [
    {
     "data": {
      "image/png": "[encoded data removed]",
      "text/plain": [
       "<Figure size 720x504 with 1 Axes>"
      ]
     },
     "metadata": {
      "needs_background": "light"
     },
     "output_type": "display_data"
    }
   ],
   "source": [
    "# plot of clusters in PC\n",
    "\n",
    "# inputs precessing\n",
    "# dum_var_trans = kmeans.transform(dum_var)\n",
    "pca_center = pca.transform(kmeans.cluster_centers_)\n",
    "pca_df_C = pd.DataFrame(pca_center, columns=labels)\n",
    "pca_df_sample = pd.DataFrame(pca_center, columns=labels)\n",
    "pca_df_sample = pd.DataFrame(pca_data,\n",
    "                             columns=labels)\n",
    "pca_df_sample[\"cluster\"] = kmeans.labels_\n",
    "# pca_df_sample = pca_df_sample.sample(2000)\n",
    "\n",
    "\n",
    "# plot\n",
    "plt.figure(figsize=(10, 7))\n",
    "plt.scatter(pca_df_sample.PC1,\n",
    "            pca_df_sample.PC2,\n",
    "            marker=\"h\",\n",
    "            c=pca_df_sample[\"cluster\"],\n",
    "            alpha=0.5)\n",
    "plt.scatter(pca_df_C.PC1, pca_df_C.PC2, marker=\"h\", c=[0, 1, 2, 3, 4], s=300, alpha=0.8)\n",
    "plt.title(\"Groups PC space\", size=18, fontweight=\"bold\")\n",
    "plt.xlabel('PC1 - {0}%'.format(per_var[0]))\n",
    "plt.ylabel('PC2 - {0}%'.format(per_var[1]))\n",
    "plt.xlim([-3, 8])\n",
    "plt.ylim([-8, 8])\n",
    "\n",
    "plt.show()"
   ]
  },
  {
   "cell_type": "code",
   "execution_count": 21,
   "metadata": {},
   "outputs": [],
   "source": [
    "# New feature selection for new customer (need to be present from the fist order):\n",
    "\n",
    "y = kmeans.labels_\n",
    "features_selection = ['promo', 'avg_basket', 'avg_nb_d_items', 'avg_quantity']\n",
    "X = cust_df.loc[:,features_selection]"
   ]
  },
  {
   "cell_type": "markdown",
   "metadata": {},
   "source": [
    "##  Classification"
   ]
  },
  {
   "cell_type": "code",
   "execution_count": 22,
   "metadata": {},
   "outputs": [
    {
     "name": "stderr",
     "output_type": "stream",
     "text": [
      "C:\\Users\\ben\\Anaconda3\\lib\\site-packages\\sklearn\\model_selection\\_split.py:2179: FutureWarning: From version 0.21, test_size will always complement train_size unless both are specified.\n",
      "  FutureWarning)\n"
     ]
    }
   ],
   "source": [
    "# split train-test\n",
    "from sklearn.model_selection import train_test_split\n",
    "\n",
    "# split the data with 80% in each set\n",
    "X_train, X_test, y_train, y_test = train_test_split(X, y, random_state=0,\n",
    "train_size=0.8)"
   ]
  },
  {
   "cell_type": "markdown",
   "metadata": {},
   "source": [
    "### KNN"
   ]
  },
  {
   "cell_type": "code",
   "execution_count": 23,
   "metadata": {},
   "outputs": [],
   "source": [
    "from sklearn.model_selection import GridSearchCV\n",
    "from sklearn.neighbors import KNeighborsClassifier\n",
    "\n",
    "param_grid = {'n_neighbors': np.arange(1,20)}\n",
    "grid = GridSearchCV(KNeighborsClassifier(), param_grid, cv=7)\n",
    "grid.fit(X_train, y_train)\n",
    "knn = grid.best_estimator_"
   ]
  },
  {
   "cell_type": "code",
   "execution_count": 24,
   "metadata": {},
   "outputs": [
    {
     "data": {
      "text/plain": [
       "{'n_neighbors': 13}"
      ]
     },
     "execution_count": 24,
     "metadata": {},
     "output_type": "execute_result"
    }
   ],
   "source": [
    "grid.best_params_"
   ]
  },
  {
   "cell_type": "code",
   "execution_count": 25,
   "metadata": {
    "scrolled": true
   },
   "outputs": [
    {
     "data": {
      "text/plain": [
       "0.6845909222318589"
      ]
     },
     "execution_count": 25,
     "metadata": {},
     "output_type": "execute_result"
    }
   ],
   "source": [
    "grid.best_score_"
   ]
  },
  {
   "cell_type": "code",
   "execution_count": 26,
   "metadata": {},
   "outputs": [
    {
     "data": {
      "text/plain": [
       "0.6751445086705202"
      ]
     },
     "execution_count": 26,
     "metadata": {},
     "output_type": "execute_result"
    }
   ],
   "source": [
    "y_pred = knn.predict(X_test)\n",
    "metrics.accuracy_score(y_test, y_pred)"
   ]
  },
  {
   "cell_type": "code",
   "execution_count": 27,
   "metadata": {},
   "outputs": [
    {
     "data": {
      "image/png": "[encoded data removed]",
      "text/plain": [
       "<Figure size 432x288 with 1 Axes>"
      ]
     },
     "metadata": {
      "needs_background": "light"
     },
     "output_type": "display_data"
    }
   ],
   "source": [
    "from sklearn.metrics import confusion_matrix\n",
    "mat = confusion_matrix(y_test, y_pred)\n",
    "group_names = [\"G0\",\"G1\",\"G2\",\"G3\",\"G4\"]\n",
    "sns.heatmap(mat.T, square=True, annot=True, fmt='d', cbar=False,\n",
    "            xticklabels=group_names,\n",
    "            yticklabels=group_names)\n",
    "plt.xlabel('true label')\n",
    "plt.ylabel('predicted label');"
   ]
  },
  {
   "cell_type": "markdown",
   "metadata": {},
   "source": [
    "### Random Forest"
   ]
  },
  {
   "cell_type": "code",
   "execution_count": 28,
   "metadata": {},
   "outputs": [],
   "source": [
    "from sklearn.ensemble import RandomForestClassifier\n",
    "\n",
    "rf = RandomForestClassifier(n_estimators=100, random_state=0)\n",
    "rf.fit(X_train, y_train)\n",
    "y_pred = rf.predict(X_test)"
   ]
  },
  {
   "cell_type": "code",
   "execution_count": 29,
   "metadata": {},
   "outputs": [
    {
     "data": {
      "image/png": "[encoded data removed]",
      "text/plain": [
       "<Figure size 432x288 with 1 Axes>"
      ]
     },
     "metadata": {
      "needs_background": "light"
     },
     "output_type": "display_data"
    }
   ],
   "source": [
    "from sklearn.metrics import confusion_matrix\n",
    "mat = confusion_matrix(y_test, y_pred)\n",
    "group_names = [\"G0\",\"G1\",\"G2\",\"G3\",\"G4\"]\n",
    "sns.heatmap(mat.T, square=True, annot=True, fmt='d', cbar=False,\n",
    "            xticklabels=group_names,\n",
    "            yticklabels=group_names)\n",
    "plt.xlabel('true label')\n",
    "plt.ylabel('predicted label');"
   ]
  },
  {
   "cell_type": "code",
   "execution_count": 30,
   "metadata": {},
   "outputs": [
    {
     "data": {
      "text/plain": [
       "0.738728323699422"
      ]
     },
     "execution_count": 30,
     "metadata": {},
     "output_type": "execute_result"
    }
   ],
   "source": [
    "metrics.accuracy_score(y_test, y_pred)"
   ]
  },
  {
   "cell_type": "markdown",
   "metadata": {},
   "source": [
    "### Multinomial Naive Bayes "
   ]
  },
  {
   "cell_type": "code",
   "execution_count": 31,
   "metadata": {},
   "outputs": [
    {
     "data": {
      "text/plain": [
       "0.44971098265895953"
      ]
     },
     "execution_count": 31,
     "metadata": {},
     "output_type": "execute_result"
    }
   ],
   "source": [
    "from sklearn.naive_bayes import MultinomialNB\n",
    "multi_nb = MultinomialNB(alpha=1)\n",
    "multi_nb.fit(X_train, y_train)\n",
    "y_pred = multi_nb.predict(X_test)\n",
    "metrics.accuracy_score(y_test, y_pred)"
   ]
  },
  {
   "cell_type": "markdown",
   "metadata": {},
   "source": [
    "### Gaussian Naive Bayes "
   ]
  },
  {
   "cell_type": "code",
   "execution_count": 32,
   "metadata": {},
   "outputs": [
    {
     "data": {
      "text/plain": [
       "0.7213872832369942"
      ]
     },
     "execution_count": 32,
     "metadata": {},
     "output_type": "execute_result"
    }
   ],
   "source": [
    "from sklearn.naive_bayes import GaussianNB\n",
    "gauss_nb = GaussianNB()\n",
    "gauss_nb.fit(X_train, y_train)\n",
    "y_pred = gauss_nb.predict(X_test)\n",
    "metrics.accuracy_score(y_test, y_pred)"
   ]
  },
  {
   "cell_type": "code",
   "execution_count": 33,
   "metadata": {},
   "outputs": [
    {
     "data": {
      "image/png": "[encoded data removed]",
      "text/plain": [
       "<Figure size 432x288 with 1 Axes>"
      ]
     },
     "metadata": {
      "needs_background": "light"
     },
     "output_type": "display_data"
    }
   ],
   "source": [
    "mat = confusion_matrix(y_test, y_pred)\n",
    "group_names = [\"G0\",\"G1\",\"G2\",\"G3\",\"G4\"]\n",
    "sns.heatmap(mat.T, square=True, annot=True, fmt='d', cbar=False,\n",
    "            xticklabels=group_names,\n",
    "            yticklabels=group_names)\n",
    "plt.xlabel('true label')\n",
    "plt.ylabel('predicted label');"
   ]
  },
  {
   "cell_type": "code",
   "execution_count": 34,
   "metadata": {},
   "outputs": [
    {
     "name": "stdout",
     "output_type": "stream",
     "text": [
      "              precision    recall  f1-score   support\n",
      "\n",
      "           0       0.07      0.43      0.12        35\n",
      "           1       0.93      0.72      0.81       658\n",
      "           2       0.95      0.86      0.90       148\n",
      "           3       0.80      0.67      0.73         6\n",
      "           4       0.50      0.17      0.25        18\n",
      "\n",
      "   micro avg       0.72      0.72      0.72       865\n",
      "   macro avg       0.65      0.57      0.56       865\n",
      "weighted avg       0.89      0.72      0.79       865\n",
      "\n"
     ]
    }
   ],
   "source": [
    "from sklearn import metrics\n",
    "print(metrics.classification_report(y_pred, y_test))"
   ]
  },
  {
   "cell_type": "markdown",
   "metadata": {},
   "source": [
    "### linear SVC"
   ]
  },
  {
   "cell_type": "code",
   "execution_count": 35,
   "metadata": {},
   "outputs": [
    {
     "name": "stderr",
     "output_type": "stream",
     "text": [
      "C:\\Users\\ben\\Anaconda3\\lib\\site-packages\\sklearn\\svm\\base.py:922: ConvergenceWarning: Liblinear failed to converge, increase the number of iterations.\n",
      "  \"the number of iterations.\", ConvergenceWarning)\n"
     ]
    },
    {
     "data": {
      "text/plain": [
       "0.5907514450867052"
      ]
     },
     "execution_count": 35,
     "metadata": {},
     "output_type": "execute_result"
    }
   ],
   "source": [
    "from sklearn.svm import LinearSVC\n",
    "svm = LinearSVC()\n",
    "svm.fit(X_train, y_train)\n",
    "y_pred = svm.predict(X_test)\n",
    "metrics.accuracy_score(y_test, y_pred)\n"
   ]
  },
  {
   "cell_type": "markdown",
   "metadata": {},
   "source": [
    "### SVM"
   ]
  },
  {
   "cell_type": "code",
   "execution_count": 42,
   "metadata": {},
   "outputs": [
    {
     "data": {
      "text/plain": [
       "GridSearchCV(cv=7, error_score='raise-deprecating',\n",
       "       estimator=SVC(C=1.0, cache_size=200, class_weight=None, coef0=0.0,\n",
       "  decision_function_shape='ovr', degree=3, gamma='auto_deprecated',\n",
       "  kernel='rbf', max_iter=-1, probability=False, random_state=None,\n",
       "  shrinking=True, tol=0.001, verbose=False),\n",
       "       fit_params=None, iid='warn', n_jobs=None,\n",
       "       param_grid={'C': [1, 5, 10, 25], 'gamma': ['auto', 'scale']},\n",
       "       pre_dispatch='2*n_jobs', refit=True, return_train_score='warn',\n",
       "       scoring=None, verbose=0)"
      ]
     },
     "execution_count": 42,
     "metadata": {},
     "output_type": "execute_result"
    }
   ],
   "source": [
    "from sklearn.svm import SVC\n",
    "\n",
    "param_grid = {\"C\": [1, 5, 10, 25],\n",
    "             \"gamma\": [\"auto\", \"scale\"]}\n",
    "grid = GridSearchCV(SVC(), param_grid, cv=7)\n",
    "grid.fit(X_train, y_train)"
   ]
  },
  {
   "cell_type": "code",
   "execution_count": 43,
   "metadata": {},
   "outputs": [
    {
     "data": {
      "text/plain": [
       "{'C': 1, 'gamma': 'scale'}"
      ]
     },
     "execution_count": 43,
     "metadata": {},
     "output_type": "execute_result"
    }
   ],
   "source": [
    "grid.best_params_"
   ]
  },
  {
   "cell_type": "code",
   "execution_count": 44,
   "metadata": {},
   "outputs": [
    {
     "data": {
      "text/plain": [
       "0.7117664064758601"
      ]
     },
     "execution_count": 44,
     "metadata": {},
     "output_type": "execute_result"
    }
   ],
   "source": [
    "grid.best_score_"
   ]
  },
  {
   "cell_type": "code",
   "execution_count": 46,
   "metadata": {},
   "outputs": [
    {
     "data": {
      "image/png": "[encoded data removed]",
      "text/plain": [
       "<Figure size 432x288 with 1 Axes>"
      ]
     },
     "metadata": {
      "needs_background": "light"
     },
     "output_type": "display_data"
    }
   ],
   "source": [
    "svc = grid.best_estimator_\n",
    "y_pred = svc.predict(X_test)\n",
    "mat = confusion_matrix(y_test, y_pred)\n",
    "group_names = [\"G0\",\"G1\",\"G2\",\"G3\",\"G4\"]\n",
    "sns.heatmap(mat.T, square=True, annot=True, fmt='d', cbar=False,\n",
    "            xticklabels=group_names,\n",
    "            yticklabels=group_names)\n",
    "plt.xlabel('true label')\n",
    "plt.ylabel('predicted label');"
   ]
  },
  {
   "cell_type": "code",
   "execution_count": null,
   "metadata": {},
   "outputs": [],
   "source": []
  }
 ],
 "metadata": {
  "kernelspec": {
   "display_name": "Python 3",
   "language": "python",
   "name": "python3"
  },
  "language_info": {
   "codemirror_mode": {
    "name": "ipython",
    "version": 3
   },
   "file_extension": ".py",
   "mimetype": "text/x-python",
   "name": "python",
   "nbconvert_exporter": "python",
   "pygments_lexer": "ipython3",
   "version": "3.7.0"
  }
 },
 "nbformat": 4,
 "nbformat_minor": 2
}
