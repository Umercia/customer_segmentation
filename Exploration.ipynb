{
 "cells": [
  {
   "cell_type": "markdown",
   "metadata": {},
   "source": [
    "# Notebook de nettoyage et d’exploration\n",
    "\n",
    "Mise en situation:  \n",
    "Vous êtes en poste chez Datazon, et travaillez au sein de l'équipe marketing, avec d'autres Data Scientists. L'entreprise britannique, leader dans la vente en ligne de toute sorte d'objets, a tout intérêt à mieux comprendre les comportements de ses clients pour augmenter la fréquence d'achat et la valeur du panier moyen.  \n",
    "\n",
    "Votre objectif est de comprendre les différents types d’utilisateurs grâce à leur comportement dans la durée, afin de détecter les plus susceptibles de passer à l'achat.\n",
    "\n",
    "les données brutes:  [Online Retail Data Set](https://archive.ics.uci.edu/ml/datasets/Online+Retail)"
   ]
  },
  {
   "cell_type": "code",
   "execution_count": 1,
   "metadata": {},
   "outputs": [],
   "source": [
    "import pandas as pd\n",
    "import numpy as np\n",
    "import matplotlib.pyplot as plt\n",
    "import seaborn as sns"
   ]
  },
  {
   "cell_type": "code",
   "execution_count": 2,
   "metadata": {},
   "outputs": [],
   "source": [
    "df = pd.read_excel(\"Online Retail.xlsx\")"
   ]
  },
  {
   "cell_type": "code",
   "execution_count": 3,
   "metadata": {},
   "outputs": [
    {
     "data": {
      "text/html": [
       "<div>\n",
       "<style scoped>\n",
       "    .dataframe tbody tr th:only-of-type {\n",
       "        vertical-align: middle;\n",
       "    }\n",
       "\n",
       "    .dataframe tbody tr th {\n",
       "        vertical-align: top;\n",
       "    }\n",
       "\n",
       "    .dataframe thead th {\n",
       "        text-align: right;\n",
       "    }\n",
       "</style>\n",
       "<table border=\"1\" class=\"dataframe\">\n",
       "  <thead>\n",
       "    <tr style=\"text-align: right;\">\n",
       "      <th></th>\n",
       "      <th>InvoiceNo</th>\n",
       "      <th>StockCode</th>\n",
       "      <th>Description</th>\n",
       "      <th>Quantity</th>\n",
       "      <th>InvoiceDate</th>\n",
       "      <th>UnitPrice</th>\n",
       "      <th>CustomerID</th>\n",
       "      <th>Country</th>\n",
       "    </tr>\n",
       "  </thead>\n",
       "  <tbody>\n",
       "    <tr>\n",
       "      <th>0</th>\n",
       "      <td>536365</td>\n",
       "      <td>85123A</td>\n",
       "      <td>WHITE HANGING HEART T-LIGHT HOLDER</td>\n",
       "      <td>6</td>\n",
       "      <td>2010-12-01 08:26:00</td>\n",
       "      <td>2.55</td>\n",
       "      <td>17850.0</td>\n",
       "      <td>United Kingdom</td>\n",
       "    </tr>\n",
       "    <tr>\n",
       "      <th>1</th>\n",
       "      <td>536365</td>\n",
       "      <td>71053</td>\n",
       "      <td>WHITE METAL LANTERN</td>\n",
       "      <td>6</td>\n",
       "      <td>2010-12-01 08:26:00</td>\n",
       "      <td>3.39</td>\n",
       "      <td>17850.0</td>\n",
       "      <td>United Kingdom</td>\n",
       "    </tr>\n",
       "    <tr>\n",
       "      <th>2</th>\n",
       "      <td>536365</td>\n",
       "      <td>84406B</td>\n",
       "      <td>CREAM CUPID HEARTS COAT HANGER</td>\n",
       "      <td>8</td>\n",
       "      <td>2010-12-01 08:26:00</td>\n",
       "      <td>2.75</td>\n",
       "      <td>17850.0</td>\n",
       "      <td>United Kingdom</td>\n",
       "    </tr>\n",
       "    <tr>\n",
       "      <th>3</th>\n",
       "      <td>536365</td>\n",
       "      <td>84029G</td>\n",
       "      <td>KNITTED UNION FLAG HOT WATER BOTTLE</td>\n",
       "      <td>6</td>\n",
       "      <td>2010-12-01 08:26:00</td>\n",
       "      <td>3.39</td>\n",
       "      <td>17850.0</td>\n",
       "      <td>United Kingdom</td>\n",
       "    </tr>\n",
       "    <tr>\n",
       "      <th>4</th>\n",
       "      <td>536365</td>\n",
       "      <td>84029E</td>\n",
       "      <td>RED WOOLLY HOTTIE WHITE HEART.</td>\n",
       "      <td>6</td>\n",
       "      <td>2010-12-01 08:26:00</td>\n",
       "      <td>3.39</td>\n",
       "      <td>17850.0</td>\n",
       "      <td>United Kingdom</td>\n",
       "    </tr>\n",
       "  </tbody>\n",
       "</table>\n",
       "</div>"
      ],
      "text/plain": [
       "  InvoiceNo StockCode                          Description  Quantity  \\\n",
       "0    536365    85123A   WHITE HANGING HEART T-LIGHT HOLDER         6   \n",
       "1    536365     71053                  WHITE METAL LANTERN         6   \n",
       "2    536365    84406B       CREAM CUPID HEARTS COAT HANGER         8   \n",
       "3    536365    84029G  KNITTED UNION FLAG HOT WATER BOTTLE         6   \n",
       "4    536365    84029E       RED WOOLLY HOTTIE WHITE HEART.         6   \n",
       "\n",
       "          InvoiceDate  UnitPrice  CustomerID         Country  \n",
       "0 2010-12-01 08:26:00       2.55     17850.0  United Kingdom  \n",
       "1 2010-12-01 08:26:00       3.39     17850.0  United Kingdom  \n",
       "2 2010-12-01 08:26:00       2.75     17850.0  United Kingdom  \n",
       "3 2010-12-01 08:26:00       3.39     17850.0  United Kingdom  \n",
       "4 2010-12-01 08:26:00       3.39     17850.0  United Kingdom  "
      ]
     },
     "execution_count": 3,
     "metadata": {},
     "output_type": "execute_result"
    }
   ],
   "source": [
    "df.head()"
   ]
  },
  {
   "cell_type": "markdown",
   "metadata": {},
   "source": [
    "**Attribute Information:**   \n",
    "**- InvoiceNo**: Invoice number. Nominal, a 6-digit integral number uniquely assigned to each transaction. If this code starts with letter 'c', it indicates a cancellation.   \n",
    "**- StockCode**: Product (item) code. Nominal, a 5-digit integral number uniquely assigned to each distinct product.   \n",
    "**- Description**: Product (item) name. Nominal.   \n",
    "**- Quantity**: The quantities of each product (item) per transaction. Numeric.\t  \n",
    "**- InvoiceDate**: Invice Date and time. Numeric, the day and time when each transaction was generated.   \n",
    "**- UnitPrice**: Unit price. Numeric, Product price per unit in sterling.   \n",
    "**- CustomerID**: Customer number. Nominal, a 5-digit integral number uniquely assigned to each customer.   \n",
    "**- Country**: Country name. Nominal, the name of the country where each customer resides.  "
   ]
  },
  {
   "cell_type": "markdown",
   "metadata": {},
   "source": [
    "When it comes to finding out who your best customers are, the old RFM matrix principle is the best. RFM stands for Recency, Frequency and Monetary. It is a customer segmentation technique that uses past purchase behavior to divide customers into groups."
   ]
  },
  {
   "cell_type": "code",
   "execution_count": 4,
   "metadata": {},
   "outputs": [
    {
     "data": {
      "text/plain": [
       "InvoiceNo           0\n",
       "StockCode           0\n",
       "Description      1454\n",
       "Quantity            0\n",
       "InvoiceDate         0\n",
       "UnitPrice           0\n",
       "CustomerID     135080\n",
       "Country             0\n",
       "dtype: int64"
      ]
     },
     "execution_count": 4,
     "metadata": {},
     "output_type": "execute_result"
    }
   ],
   "source": [
    "# Check whether there are missing values in each column.\n",
    "df.isnull().sum()"
   ]
  },
  {
   "cell_type": "code",
   "execution_count": null,
   "metadata": {},
   "outputs": [
    {
     "data": {
      "text/plain": [
       "10624"
      ]
     },
     "execution_count": 5,
     "metadata": {},
     "output_type": "execute_result"
    }
   ],
   "source": [
    "\n",
    "mask = df.loc[:, \"Quantity\"] < 0\n",
    "mask.sum()"
   ]
  },
  {
   "cell_type": "code",
   "execution_count": null,
   "metadata": {},
   "outputs": [
    {
     "name": "stdout",
     "output_type": "stream",
     "text": [
      "135080 (24.9%) lines have been dropped for na in key features\n"
     ]
    }
   ],
   "source": [
    "# drop na in the main features\n",
    "a = len(df)\n",
    "df = df.dropna(subset=('InvoiceNo', 'StockCode', 'Quantity',\n",
    "                       \"InvoiceDate\", 'UnitPrice', 'CustomerID'))\n",
    "b = len(df)\n",
    "print('{} ({}%) lines have been dropped for \\\n",
    "na in key features'.format((a-b), round((a-b)/a*100, 1)))"
   ]
  },
  {
   "cell_type": "code",
   "execution_count": null,
   "metadata": {},
   "outputs": [
    {
     "name": "stdout",
     "output_type": "stream",
     "text": [
      "5225 (1.3%) lines have been dropped for duplicates\n"
     ]
    }
   ],
   "source": [
    "# drop duplicates\n",
    "a = len(df)\n",
    "df = df.drop_duplicates()\n",
    "b = len(df)\n",
    "print('{} ({}%) lines have been dropped for \\\n",
    "duplicates'.format((a-b), round((a-b)/a*100, 1)))"
   ]
  },
  {
   "cell_type": "code",
   "execution_count": null,
   "metadata": {},
   "outputs": [
    {
     "name": "stdout",
     "output_type": "stream",
     "text": [
      " 40 (0.0%) lines have been dropped for UnitPrice = 0\n"
     ]
    }
   ],
   "source": [
    "# Remove line where price = 0\n",
    "a = len(df)\n",
    "mask = df.loc[:, \"UnitPrice\"] == 0\n",
    "df = df.loc[~mask, :]\n",
    "b = len(df)\n",
    "print(' {} ({}%) lines have been dropped for \\\n",
    "UnitPrice = 0'.format((a-b), round((a-b)/a*100, 1)))"
   ]
  },
  {
   "cell_type": "markdown",
   "metadata": {},
   "source": [
    "### Remove cancel Orders\n",
    "in fact, most orders with negative values in \"Quantity\" are tricks. the idea is to cancel an other \"real\" order with the same positive \"Quantity\". To clean the data base, we need to remove the orders of cancellation and reduce \"quantity\" of the original order. Note that it could also be interesting to keep it, to find any partern in it."
   ]
  },
  {
   "cell_type": "code",
   "execution_count": null,
   "metadata": {},
   "outputs": [
    {
     "name": "stdout",
     "output_type": "stream",
     "text": [
      "negative or zero values count: 8872\n"
     ]
    }
   ],
   "source": [
    "# remove_quantity from previous order\n",
    "mask = df.loc[:, \"Quantity\"] <= 0\n",
    "print(\"negative or zero values count:\", mask.sum())\n",
    "\n",
    "neg_df= df.loc[mask, :]\n",
    "idx_to_del = []\n",
    "\n",
    "for idx in neg_df.index:\n",
    "    mask = ((df.loc[:, \"CustomerID\"] == df.loc[idx, \"CustomerID\"])\n",
    "            & (df.loc[:, \"StockCode\"] == df.loc[idx, \"StockCode\"])\n",
    "            & (df.loc[:, \"InvoiceDate\"] < df.loc[idx, \"InvoiceDate\"]))\n",
    "    try:\n",
    "        # we take the last occurence: closest to the cancel order\n",
    "        index_todel = df.loc[mask, :].tail(1).index[0]\n",
    "        df.loc[index_todel, \"Quantity\"] = (df.loc[index_todel, \"Quantity\"]\n",
    "                                           + df.loc[idx, \"Quantity\"])\n",
    "    except:\n",
    "        continue\n",
    "\n",
    "mask = df.loc[:, \"Quantity\"] <= 0\n",
    "print(\"negative or zero values count after adjustement:\", mask.sum())"
   ]
  },
  {
   "cell_type": "code",
   "execution_count": null,
   "metadata": {},
   "outputs": [],
   "source": [
    "# Drop cancel orders\n",
    "a = len(df)\n",
    "df = df.loc[~mask, :]\n",
    "b = len(df)\n",
    "print('  {} ({}%) lines have been dropped for \\\n",
    "cancel orders'.format((a-b), round((a-b)/a*100, 1)))"
   ]
  },
  {
   "cell_type": "code",
   "execution_count": null,
   "metadata": {},
   "outputs": [],
   "source": [
    "# customers per country\n",
    "# inputs\n",
    "df1 = df\n",
    "customer_country = df1[['Country', 'CustomerID']].drop_duplicates()\n",
    "x = customer_country[\"Country\"].value_counts()[:10]\n",
    "y = customer_country[\"Country\"].value_counts().index[0:10]\n",
    "\n",
    "# plot\n",
    "plt.figure(figsize=(6, 10))\n",
    "plt.title(\"customers per country\", fontweight=\"bold\", size=10)\n",
    "sns.barplot(x=x, y=y, label=\"Total\", color=\"g\")\n",
    "plt.xlabel(\"count\")\n",
    "plt.show()"
   ]
  },
  {
   "cell_type": "markdown",
   "metadata": {},
   "source": [
    "We can clearly see that Uk is the main market."
   ]
  },
  {
   "cell_type": "code",
   "execution_count": null,
   "metadata": {
    "scrolled": true
   },
   "outputs": [],
   "source": [
    "x = df.groupby(\"StockCode\").aggregate({\"Quantity\": len})\n",
    "x.sort_values(by=\"Quantity\")"
   ]
  },
  {
   "cell_type": "code",
   "execution_count": null,
   "metadata": {},
   "outputs": [],
   "source": [
    "# remove non standard transaction , Post, Manual adjustement, Bank Charge\n",
    "StockCode_to_remove = (\"BANK CHARGES\", \"C2\", \"DOT\", \"M\", \"PADS\", \"POST\")\n",
    "mask = df.loc[:, \"StockCode\"].isin(StockCode_to_remove)\n",
    "df = df.loc[~mask, :]"
   ]
  },
  {
   "cell_type": "markdown",
   "metadata": {},
   "source": [
    "### features Engineering\n",
    "We will creat some temporal variable such as month, hour or date (only). it will be used to agregate data on it, and explore some temporal paterns."
   ]
  },
  {
   "cell_type": "code",
   "execution_count": null,
   "metadata": {},
   "outputs": [],
   "source": [
    "pd.DatetimeIndex(df.loc[:, 'InvoiceDate']).month"
   ]
  },
  {
   "cell_type": "code",
   "execution_count": null,
   "metadata": {},
   "outputs": [],
   "source": [
    "df['TotalPrice'] = df['Quantity'] * df['UnitPrice']\n",
    "df.loc[:, 'month'] = pd.DatetimeIndex(df.loc[:, 'InvoiceDate']).month()  \n",
    "df.loc[:, 'hours'] = pd.DatetimeIndex(df['InvoiceDate']).hour()\n",
    "df.loc[:, 'date'] = pd.DatetimeIndex(df['InvoiceDate']).date()\n",
    "df.loc[:, \"date\"] = pd.to_datetime(df.loc[:, \"date\"]).date()"
   ]
  },
  {
   "cell_type": "code",
   "execution_count": null,
   "metadata": {},
   "outputs": [],
   "source": [
    "df.sample(5)"
   ]
  },
  {
   "cell_type": "code",
   "execution_count": null,
   "metadata": {},
   "outputs": [],
   "source": [
    "def mode1(x):\n",
    "    values, counts = np.unique(x, return_counts=True)\n",
    "    m = counts.argmax()\n",
    "    return values[m]"
   ]
  },
  {
   "cell_type": "code",
   "execution_count": null,
   "metadata": {},
   "outputs": [],
   "source": [
    "modal_per_item = df.loc[:, (\"StockCode\", \"UnitPrice\")]\n",
    "modal_per_item = modal_per_item.groupby(\"StockCode\")\n",
    "modal_per_item = modal_per_item.aggregate({\"UnitPrice\": mode1})"
   ]
  },
  {
   "cell_type": "code",
   "execution_count": null,
   "metadata": {
    "scrolled": true
   },
   "outputs": [],
   "source": [
    "modal_per_item.head()"
   ]
  },
  {
   "cell_type": "code",
   "execution_count": null,
   "metadata": {},
   "outputs": [],
   "source": [
    "# convert to dic\n",
    "modal_per_item = dict(zip(modal_per_item.index,\n",
    "                          modal_per_item.UnitPrice))"
   ]
  },
  {
   "cell_type": "code",
   "execution_count": null,
   "metadata": {},
   "outputs": [],
   "source": [
    "# creation of relative_price columns\n",
    "# this columns indicate in percentage the get price of each order compare \n",
    "# to the standard price\n",
    "\n",
    "df[\"modal_price\"] = 0\n",
    "for stc, UnitPrice in modal_per_item.items():\n",
    "    mask = df.loc[:, \"StockCode\"] == stc\n",
    "    df.loc[mask, \"modal_price\"] = UnitPrice\n",
    "\n",
    "df.loc[:, \"relative_price\"] = df.loc[:, \"UnitPrice\"] / df.loc[:, \"modal_price\"]\n",
    "df.loc[:, \"relative_price\"] = df.loc[:, \"relative_price\"] * 100\n",
    "df.loc[:, \"relative_price\"] = df.loc[:, \"relative_price\"].astype(\"int\")\n",
    "df.loc[:, \"relative_price\"].head()"
   ]
  },
  {
   "cell_type": "code",
   "execution_count": null,
   "metadata": {
    "scrolled": true
   },
   "outputs": [],
   "source": [
    "# Amount spend versus relative reduction\n",
    "\n",
    "plt.scatter(x=\"Quantity\",\n",
    "            y=\"relative_price\",\n",
    "            data=df.sample(5000),\n",
    "            alpha=0.7)\n",
    "plt.xlim(0, 400)\n",
    "plt.ylim(0, 200)\n",
    "plt.title(\"\")\n",
    "plt.xlabel(\"Quantity ordered\", size=16)\n",
    "plt.ylabel(\"Relative price [%]\", size=16)\n",
    "plt.title(\"Relative price\", size=18)"
   ]
  },
  {
   "cell_type": "markdown",
   "metadata": {},
   "source": [
    "Reduction in priced are linked with relatively high quantity order. However the contrary is not true. Low quantity order does not always mean no reduction."
   ]
  },
  {
   "cell_type": "code",
   "execution_count": null,
   "metadata": {},
   "outputs": [],
   "source": [
    "# temporal save\n",
    "df.to_csv(\"customer seg df.csv\")"
   ]
  },
  {
   "cell_type": "code",
   "execution_count": null,
   "metadata": {},
   "outputs": [],
   "source": [
    "# load point\n",
    "df = pd.read_csv(\"customer seg df.csv\")\n",
    "df.head()"
   ]
  },
  {
   "cell_type": "code",
   "execution_count": null,
   "metadata": {},
   "outputs": [],
   "source": [
    "# create binary promo feature\n",
    "import timeit\n",
    "start_time = timeit.default_timer()\n",
    "\n",
    "df.loc[:, \"promo\"] = 0\n",
    "for stock_code, promo_UnitPrice in modal_per_item.items():\n",
    "    mask = ((df.loc[:, \"StockCode\"] == stock_code)\n",
    "            & (df.loc[:, \"UnitPrice\"] < promo_UnitPrice))\n",
    "    df.loc[mask, \"promo\"] = 1\n",
    "\n",
    "elapsed = timeit.default_timer() - start_time"
   ]
  },
  {
   "cell_type": "code",
   "execution_count": null,
   "metadata": {},
   "outputs": [],
   "source": [
    "df.head()"
   ]
  },
  {
   "cell_type": "markdown",
   "metadata": {},
   "source": [
    "### Invoice aggregation\n",
    "In this section we will aggregate the previous table for each Invoice. "
   ]
  },
  {
   "cell_type": "code",
   "execution_count": null,
   "metadata": {},
   "outputs": [],
   "source": [
    "Invoice_df = df.groupby(\"InvoiceNo\").aggregate({\n",
    "                                  \"Quantity\": \"sum\",\n",
    "                                  \"StockCode\": \"count\",\n",
    "                                  \"TotalPrice\": \"sum\",\n",
    "                                  \"CustomerID\": \"min\",\n",
    "                                  \"Country\": \"min\",\n",
    "                                  \"month\": \"min\",\n",
    "                                  \"hours\": \"min\",\n",
    "                                  \"date\": \"min\",\n",
    "                                  \"promo\": \"mean\"})\n",
    "Invoice_df.rename(columns={\"StockCode\": \"nb_item_types\"}, inplace=True)\n",
    "Invoice_df.sample(3)"
   ]
  },
  {
   "cell_type": "markdown",
   "metadata": {},
   "source": [
    "### Exploration  invoices"
   ]
  },
  {
   "cell_type": "code",
   "execution_count": null,
   "metadata": {
    "scrolled": false
   },
   "outputs": [],
   "source": [
    "# look for any correlation in between features\n",
    "x = Invoice_df.drop(axis=1, columns=[\"date\", \"Country\"]).sample(500)\n",
    "sns.pairplot(x, size=2)"
   ]
  },
  {
   "cell_type": "markdown",
   "metadata": {},
   "source": [
    "There is clear relationsheep in between TotalPrice and Quantity."
   ]
  },
  {
   "cell_type": "markdown",
   "metadata": {},
   "source": [
    "Order seems to increase at the end of the year (close to Christmas)"
   ]
  },
  {
   "cell_type": "code",
   "execution_count": null,
   "metadata": {
    "scrolled": true
   },
   "outputs": [],
   "source": [
    "# plot x distribution\n",
    "import matplotlib.pyplot as plt\n",
    "import seaborn as sns\n",
    "\n",
    "# inputs\n",
    "xn = Invoice_df.select_dtypes(exclude=['object'])\n",
    "\n",
    "# plot\n",
    "sns.set(style=\"ticks\", palette=\"pastel\")\n",
    "for i, x in enumerate(xn):\n",
    "    plt.figure(figsize=(6, 4))\n",
    "    plt.hist(xn[x].dropna())\n",
    "    plt.ylabel('counts', size=16)\n",
    "    plt.xlabel(xn.columns.values[i], size=16)\n",
    "    plt.show()"
   ]
  },
  {
   "cell_type": "code",
   "execution_count": null,
   "metadata": {
    "scrolled": true
   },
   "outputs": [],
   "source": [
    "# Zoom on nb_of_items\n",
    "plt.figure(figsize=(6, 4))\n",
    "plt.hist(Invoice_df.nb_item_types, bins=40)\n",
    "plt.ylabel('counts', size=16)\n",
    "plt.xlabel(\"nb_of_items\", size=16)\n",
    "plt.xlim(0, 200)\n",
    "plt.show()"
   ]
  },
  {
   "cell_type": "code",
   "execution_count": null,
   "metadata": {},
   "outputs": [],
   "source": [
    "# Zoom on nb_of_items\n",
    "plt.figure(figsize=(6, 4))\n",
    "plt.hist(Invoice_df.nb_item_types, bins=100)\n",
    "plt.ylabel('counts', size=16)\n",
    "plt.xlabel(\"nb_item_types\", size=16)\n",
    "plt.xlim(0, 100)\n",
    "plt.show()"
   ]
  },
  {
   "cell_type": "code",
   "execution_count": null,
   "metadata": {
    "scrolled": true
   },
   "outputs": [],
   "source": [
    "# Zoom on nb_of_items\n",
    "plt.figure(figsize=(6, 4))\n",
    "plt.hist(Invoice_df.TotalPrice, bins=1000)\n",
    "plt.ylabel('counts', size=16)\n",
    "plt.xlabel(\"TotalPrice\", size=16)\n",
    "plt.xlim(0, 1000)\n",
    "plt.show()"
   ]
  },
  {
   "cell_type": "markdown",
   "metadata": {},
   "source": [
    "Pic at 300 £. Could be free shiping limits ?"
   ]
  },
  {
   "cell_type": "code",
   "execution_count": null,
   "metadata": {
    "scrolled": true
   },
   "outputs": [],
   "source": [
    "# Nb of orders during the year\n",
    "x = Invoice_df.loc[:, (\"TotalPrice\", \"date\", \"hours\")].pivot_table(\n",
    "                                                        values=\"TotalPrice\",\n",
    "                                                        index='hours',\n",
    "                                                        columns='date',\n",
    "                                                        aggfunc=len,\n",
    "                                                        fill_value=0)\n",
    "# delays along the years\n",
    "plt.figure(figsize=(24, 7))\n",
    "plt.title(\"Year mapping - Number of orders\", fontweight=\"bold\", size=18)\n",
    "sns.heatmap(x, annot=False, cmap=\"RdYlGn_r\")\n",
    "plt.xlabel(\"Date\", size=16)\n",
    "plt.ylabel(\"hours\", size=16)\n",
    "plt.show()"
   ]
  },
  {
   "cell_type": "code",
   "execution_count": null,
   "metadata": {
    "scrolled": true
   },
   "outputs": [],
   "source": [
    "Invoice_df['day_of_the_week'] = pd.to_datetime(Invoice_df['date']).dt.weekday\n",
    "Invoice_df[\"day_of_the_week\"].value_counts()"
   ]
  },
  {
   "cell_type": "markdown",
   "metadata": {},
   "source": [
    "No invoice the saturday. missing data ?"
   ]
  },
  {
   "cell_type": "code",
   "execution_count": null,
   "metadata": {
    "scrolled": true
   },
   "outputs": [],
   "source": [
    "# Nb of orders over the day of the week\n",
    "x = Invoice_df.loc[:, (\"TotalPrice\", \"day_of_the_week\", \"hours\")].pivot_table(\n",
    "                                                    values=\"TotalPrice\",\n",
    "                                                    index='hours',\n",
    "                                                    columns='day_of_the_week',\n",
    "                                                    aggfunc=len,\n",
    "                                                    fill_value=0)\n",
    "# delays along the years\n",
    "plt.figure(figsize=(14, 7))\n",
    "plt.title(\"Number of orders\", fontweight=\"bold\", size=18)\n",
    "sns.heatmap(x, annot=False, cmap=\"RdBu_r\")\n",
    "plt.show()"
   ]
  },
  {
   "cell_type": "code",
   "execution_count": null,
   "metadata": {
    "scrolled": true
   },
   "outputs": [],
   "source": [
    "# cash in distribution over week days\n",
    "plt.title(\"count versus days\", fontweight=\"bold\", size=18)\n",
    "sns.boxplot(x=\"day_of_the_week\",\n",
    "            y=\"TotalPrice\",\n",
    "            data=Invoice_df,\n",
    "            showmeans=True,\n",
    "            whis=\"range\")\n",
    "plt.ylim(0, 800)"
   ]
  },
  {
   "cell_type": "code",
   "execution_count": null,
   "metadata": {
    "scrolled": true
   },
   "outputs": [],
   "source": [
    "# number of orders by day\n",
    "sns.countplot(Invoice_df[\"day_of_the_week\"])"
   ]
  },
  {
   "cell_type": "code",
   "execution_count": null,
   "metadata": {},
   "outputs": [],
   "source": [
    "#number of order per month\n",
    "sns.countplot(Invoice_df[\"month\"])"
   ]
  },
  {
   "cell_type": "markdown",
   "metadata": {},
   "source": [
    "### Agregation per customer"
   ]
  },
  {
   "cell_type": "code",
   "execution_count": null,
   "metadata": {},
   "outputs": [],
   "source": [
    "\n",
    "datetime_object = dt.datetime.strptime(df.loc[:, \"InvoiceDate\"].max(), \"%Y-%m-%d %H:%M:%S\")\n",
    "datetime_object.date()\n"
   ]
  },
  {
   "cell_type": "code",
   "execution_count": null,
   "metadata": {},
   "outputs": [],
   "source": [
    "df.loc[:, \"date\"].max().date()"
   ]
  },
  {
   "cell_type": "code",
   "execution_count": null,
   "metadata": {},
   "outputs": [],
   "source": [
    "NOW"
   ]
  },
  {
   "cell_type": "code",
   "execution_count": null,
   "metadata": {},
   "outputs": [],
   "source": [
    "# build frequency and recency per customer\n",
    "import datetime as dt\n",
    "\n",
    "NOW = df.loc[:, \"date\"].max()   # max(date) in the data\n",
    "\n",
    "rfmTable = df.groupby('CustomerID').agg({\n",
    "                            'date': lambda x: (NOW - x.max()).days,\n",
    "                            'InvoiceNo': lambda x: len(set(x))})\n",
    "\n",
    "rfmTable.rename(columns={'date': 'recency',\n",
    "                         'InvoiceNo': 'frequency'}, inplace=True)\n",
    "\n",
    "rfmTable.head(3)"
   ]
  },
  {
   "cell_type": "code",
   "execution_count": null,
   "metadata": {
    "scrolled": true
   },
   "outputs": [],
   "source": [
    "# add average promo per customer\n",
    "promo_hunter = df.groupby(\"CustomerID\").agg({\"promo\": np.mean})\n",
    "customer_df = pd.merge(rfmTable,\n",
    "                       promo_hunter,\n",
    "                       left_index=True,\n",
    "                       right_index=True)\n",
    "customer_df.head(3)"
   ]
  },
  {
   "cell_type": "code",
   "execution_count": null,
   "metadata": {},
   "outputs": [],
   "source": [
    "# add basket (price) information (total, average, standard deviation) \n",
    "# per customer\n",
    "\n",
    "# 1.Basket\n",
    "total_basket = Invoice_df.groupby(\"CustomerID\").agg({\"TotalPrice\": np.sum})\n",
    "avg_basket = Invoice_df.groupby(\"CustomerID\").agg({\"TotalPrice\": np.mean})\n",
    "std_basket = Invoice_df.groupby(\"CustomerID\").agg({\"TotalPrice\": np.std})\n",
    "\n",
    "total_basket.rename(columns={'TotalPrice': 'total_basket'}, inplace=True)\n",
    "avg_basket.rename(columns={'TotalPrice': 'avg_basket'}, inplace=True)\n",
    "std_basket.rename(columns={'TotalPrice': 'std_basket'}, inplace=True)\n",
    "\n",
    "customer_df = pd.merge(customer_df,\n",
    "                       total_basket,\n",
    "                       left_index=True,\n",
    "                       right_index=True)\n",
    "customer_df = pd.merge(customer_df,\n",
    "                       avg_basket,\n",
    "                       left_index=True,\n",
    "                       right_index=True)\n",
    "customer_df = pd.merge(customer_df,\n",
    "                       std_basket,\n",
    "                       left_index=True,\n",
    "                       right_index=True)\n",
    "\n",
    "customer_df.head(3)"
   ]
  },
  {
   "cell_type": "code",
   "execution_count": null,
   "metadata": {},
   "outputs": [],
   "source": [
    "# Add items types(total, average, standard deviation) per customer\n",
    "\n",
    "total = df.groupby(\"CustomerID\").agg({\"StockCode\": lambda x: len(set(x))})\n",
    "avg = Invoice_df.groupby(\"CustomerID\").agg({\"nb_item_types\": np.mean})\n",
    "std = Invoice_df.groupby(\"CustomerID\").agg({\"nb_item_types\": np.std})\n",
    "\n",
    "total.rename(columns={'StockCode': 'total_nb_d_items'}, inplace=True)\n",
    "avg.rename(columns={'nb_item_types': 'avg_nb_d_items'}, inplace=True)\n",
    "std.rename(columns={'nb_item_types': 'std_nb_d_items'}, inplace=True)\n",
    "\n",
    "customer_df = pd.merge(customer_df, total, left_index=True, right_index=True)\n",
    "customer_df = pd.merge(customer_df, avg, left_index=True, right_index=True)\n",
    "customer_df = pd.merge(customer_df, std, left_index=True, right_index=True)\n",
    "\n",
    "customer_df.head(3)"
   ]
  },
  {
   "cell_type": "code",
   "execution_count": null,
   "metadata": {
    "scrolled": true
   },
   "outputs": [],
   "source": [
    "# add Quantity (total, average, standard deviation) per customer\n",
    "total = df.groupby(\"CustomerID\").agg({\"Quantity\": np.sum})\n",
    "avg = Invoice_df.groupby(\"CustomerID\").agg({\"Quantity\": np.mean})\n",
    "std = Invoice_df.groupby(\"CustomerID\").agg({\"Quantity\": np.std})\n",
    "\n",
    "total.rename(columns={'Quantity': 'total_quantity'}, inplace=True)\n",
    "avg.rename(columns={'Quantity': 'avg_quantity'}, inplace=True)\n",
    "std.rename(columns={'Quantity': 'std_quantity'}, inplace=True)\n",
    "\n",
    "customer_df = pd.merge(customer_df, total, left_index=True, right_index=True)\n",
    "customer_df = pd.merge(customer_df, avg, left_index=True, right_index=True)\n",
    "customer_df = pd.merge(customer_df, std, left_index=True, right_index=True)\n",
    "\n",
    "customer_df.head(3)"
   ]
  },
  {
   "cell_type": "markdown",
   "metadata": {},
   "source": [
    "### Exploration: customers"
   ]
  },
  {
   "cell_type": "code",
   "execution_count": null,
   "metadata": {
    "scrolled": false
   },
   "outputs": [],
   "source": [
    "# Scatter basket\n",
    "# Inputs\n",
    "mask = customer_df.loc[:, \"frequency\"] > 2\n",
    "x = customer_df.loc[mask, :]\n",
    "x[\"turbulence\"] = x[\"std_basket\"] / x[\"avg_basket\"]  # normalised STD\n",
    "sizes = x[\"total_basket\"] / 100\n",
    "\n",
    "# plot\n",
    "plt.figure(figsize=(10, 6))\n",
    "plt.scatter(x=\"avg_basket\",\n",
    "            y=\"turbulence\",\n",
    "            cmap='viridis',\n",
    "            data=x,\n",
    "            s=sizes,\n",
    "            alpha=0.5,\n",
    "            c=\"total_basket\")\n",
    "\n",
    "plt.title(\"basket avg versus std (size = Total)\", size=18)\n",
    "plt.xlabel(\"avg_basket\", size=16)\n",
    "plt.ylabel(\"std_basket\", size=16)\n",
    "plt.xlim(50, 10000)\n",
    "plt.xscale('log')\n",
    "plt.colorbar()\n",
    "plt.show()"
   ]
  },
  {
   "cell_type": "markdown",
   "metadata": {},
   "source": [
    "We can see that big Total basket cusomers have in general big average basket. Note also thier standard deviation in the basket size is higher than the \"average customer\"."
   ]
  },
  {
   "cell_type": "code",
   "execution_count": null,
   "metadata": {},
   "outputs": [],
   "source": [
    "# Scatter avg_nb_d_items\n",
    "# Inputs\n",
    "mask = customer_df.loc[:, \"frequency\"] > 2\n",
    "x = customer_df.loc[mask, :]\n",
    "x[\"turbulence\"] = x[\"std_nb_d_items\"] / x[\"avg_nb_d_items\"]\n",
    "sizes = x[\"total_basket\"] / 100\n",
    "\n",
    "\n",
    "plt.figure(figsize=(10, 6))\n",
    "plt.scatter(x=\"avg_nb_d_items\",\n",
    "            y=\"turbulence\",\n",
    "            cmap='viridis',\n",
    "            data=x,\n",
    "            s=sizes,\n",
    "            alpha=0.5,\n",
    "            c=\"total_basket\")\n",
    "plt.xlim(0, 100)\n",
    "plt.ylim(0, 2)\n",
    "plt.title(\"nb_d_items avg-std\", size=18)\n",
    "plt.xlabel(\"avg_nb_d_items\", size=16)\n",
    "plt.ylabel(\"std_nb_d_items\", size=16)\n",
    "plt.colorbar()\n",
    "plt.show()"
   ]
  },
  {
   "cell_type": "markdown",
   "metadata": {},
   "source": [
    "High Number of the average number of items per command means in general relatively big"
   ]
  },
  {
   "cell_type": "code",
   "execution_count": null,
   "metadata": {},
   "outputs": [],
   "source": [
    "# Scatter quantity\n",
    "# Inputs\n",
    "mask = customer_df.loc[:, \"frequency\"] > 2\n",
    "x = customer_df.loc[mask, :]\n",
    "x[\"turbulence\"] = x[\"std_quantity\"] / x[\"avg_quantity\"]\n",
    "\n",
    "sizes = x[\"total_basket\"] / 100\n",
    "\n",
    "plt.figure(figsize=(7, 6))\n",
    "plt.scatter(x=\"avg_quantity\",\n",
    "            y=\"turbulence\",\n",
    "            cmap='viridis',\n",
    "            data=x,\n",
    "            s=sizes,\n",
    "            alpha=0.5,\n",
    "            c=\"total_basket\")\n",
    "plt.xlim(10, 7000)\n",
    "plt.title(\"quantity avg-std\", size=18)\n",
    "plt.xlabel(\"avg_quantity\", size=16)\n",
    "plt.ylabel(\"std_quantity\", size=16)\n",
    "plt.xscale('log')\n",
    "plt.show()"
   ]
  },
  {
   "cell_type": "code",
   "execution_count": null,
   "metadata": {
    "scrolled": true
   },
   "outputs": [],
   "source": [
    "# Scatter avg_nb_d_items\n",
    "# Inputs\n",
    "mask = customer_df.loc[:, \"frequency\"] > 0\n",
    "x = customer_df.loc[mask, :]\n",
    "x[\"turbulence\"] = x[\"std_nb_d_items\"] / x[\"avg_nb_d_items\"]\n",
    "sizes = x[\"total_basket\"] / 100\n",
    "\n",
    "plt.figure(figsize=(7, 6))\n",
    "plt.scatter(x=\"frequency\",\n",
    "            y=\"avg_nb_d_items\",\n",
    "            cmap='viridis',\n",
    "            data=x,\n",
    "            s=sizes,\n",
    "            alpha=0.5,\n",
    "            c=\"total_basket\")\n",
    "plt.xlim(0, 100)\n",
    "plt.ylim(0, 150)\n",
    "plt.title(\"Freqency versus avg number of item per customer\", size=18)\n",
    "plt.xlabel(\"Frequency\", size=16)\n",
    "plt.ylabel(\"avg_nb_d_items\", size=16)\n",
    "plt.show()"
   ]
  },
  {
   "cell_type": "markdown",
   "metadata": {},
   "source": [
    "High average number of item type (>40) per command, are in genaral linked with low frequency. Big customer seems to order less item but more often."
   ]
  },
  {
   "cell_type": "code",
   "execution_count": null,
   "metadata": {},
   "outputs": [],
   "source": [
    "# Scatter avg_nb_d_items\n",
    "# Inputs\n",
    "mask = customer_df.loc[:, \"frequency\"] > 0\n",
    "x = customer_df.loc[mask, :]\n",
    "x[\"turbulence\"] = x[\"std_nb_d_items\"] / x[\"avg_nb_d_items\"]\n",
    "sizes = x[\"total_basket\"] / x[\"total_basket\"].max() * 2000\n",
    "\n",
    "plt.figure(figsize=(7, 6))\n",
    "plt.scatter(x=\"avg_basket\",\n",
    "            y=\"promo\",\n",
    "            cmap='viridis',\n",
    "            data=x,\n",
    "            s=sizes,\n",
    "            alpha=0.5,\n",
    "            c=\"total_basket\")\n",
    "plt.xlim(10, 10000)\n",
    "plt.title(\"promotion/discount versus avg_basket\", size=18)\n",
    "plt.xlabel(\"avg_basket\", size=16)\n",
    "plt.ylabel(\"promo [% of the time]\", size=16)\n",
    "plt.xscale(\"log\")\n",
    "plt.show()"
   ]
  },
  {
   "cell_type": "code",
   "execution_count": null,
   "metadata": {},
   "outputs": [],
   "source": [
    "# scatter-hist plot function (x,y,z)\n",
    "def scat_plot(df=customer_df, x_name=\"avg_basket\", y_name=\"std_basket\",\n",
    "              z_name=\"total_basket\", xlog=False, ylog=False, xlim=(None, None),\n",
    "              ylim=(None, None), title=None):\n",
    "\n",
    "    # Scatter avg_nb_d_items\n",
    "    # Inputs\n",
    "    sizes = df.loc[:, z_name] / df[z_name].max() * 2000   # max size = 2000\n",
    "\n",
    "    # Set up the axes with gridspec\n",
    "    fig = plt.figure(figsize=(10, 10))\n",
    "    grid = plt.GridSpec(4, 4, hspace=0.2, wspace=0.2)\n",
    "    # grid have same notation than iterable \"-\" = from the end\n",
    "    main_ax = fig.add_subplot(grid[1:-1, :3])\n",
    "    y_hist = fig.add_subplot(grid[1:-1, 3], xticklabels=[], sharey=main_ax)\n",
    "    x_hist = fig.add_subplot(grid[0, :3], yticklabels=[], sharex=main_ax)\n",
    "    z_hist = fig.add_subplot(grid[0, 3], yticklabels=[])\n",
    "\n",
    "    # Main plot\n",
    "    main_ax.scatter(x=x_name,\n",
    "                    y=y_name,\n",
    "                    cmap='viridis',\n",
    "                    data=df,\n",
    "                    s=sizes,\n",
    "                    alpha=0.5,\n",
    "                    c=z_name)\n",
    "    main_ax.set_ylabel(y_name, size=16)\n",
    "    main_ax.set_xlabel(x_name, size=16)\n",
    "    main_ax.set_xlim(xlim[0], xlim[1])\n",
    "    main_ax.set_ylim(ylim[0], ylim[1])\n",
    "\n",
    "    # histogram on the attached axes\n",
    "    x_hist.hist(df[x_name], 40, histtype='stepfilled',\n",
    "                orientation='vertical', color=\"purple\")\n",
    "    x_hist.tick_params(axis='x',      # changes apply to the x-axis\n",
    "                       which='both',  # both major and minor ticks are affected\n",
    "                       bottom=False,      # ticks along the bottom edge are off\n",
    "                       top=False,         # ticks along the top edge are off\n",
    "                       labelbottom=False)  # labels along the bottom edge are off\n",
    "\n",
    "    y_hist.hist(df[y_name], 30, histtype='stepfilled',\n",
    "                orientation='horizontal', color=\"purple\")\n",
    "    y_hist.tick_params(axis='y',        # changes apply to the x-axis\n",
    "                       which='both',  # both major and minor ticks are affected\n",
    "                       bottom=False,    # ticks along the bottom edge are off\n",
    "                       left=False,      # ticks along the top edge are off\n",
    "                       labelleft=False)  # labels along the bottom edge are off\n",
    "    \n",
    "    z_hist.hist(df[z_name], 40, histtype='stepfilled',\n",
    "                orientation='vertical', color=\"purple\")\n",
    "    z_hist.tick_params(axis='x',      # changes apply to the x-axis\n",
    "                       which='both',  # both major and minor ticks are affected\n",
    "                       bottom=False,  # ticks along the bottom edge are off\n",
    "                       left=False,         # ticks along the top edge are off\n",
    "                       labelleft=False,\n",
    "                       labelbottom=False)  # labels along the bottom edge are off\n",
    "    z_hist.set_xlabel(z_name, size=10)\n",
    "\n",
    "    if xlog == True:\n",
    "        main_ax.set_xscale(\"log\")\n",
    "    if ylog == True:\n",
    "        main_ax.yscale(\"log\")\n",
    "    fig.suptitle(title, size=18)\n",
    "    plt.show()"
   ]
  },
  {
   "cell_type": "code",
   "execution_count": null,
   "metadata": {
    "scrolled": false
   },
   "outputs": [],
   "source": [
    "# same notation than iterable \"-\" = from the end\n",
    "# Basket plot\n",
    "mask = customer_df.loc[:, \"frequency\"] > 2\n",
    "x = customer_df.loc[mask, :]\n",
    "x[\"turbulence\"] = x[\"std_basket\"] / x[\"avg_basket\"]\n",
    "\n",
    "scat_plot(df=x,\n",
    "          y_name=\"turbulence\",\n",
    "          xlim=(50, None),\n",
    "          xlog=True,\n",
    "          title=\"Basket\")"
   ]
  },
  {
   "cell_type": "code",
   "execution_count": null,
   "metadata": {
    "scrolled": false
   },
   "outputs": [],
   "source": [
    "# nb_d_item plot\n",
    "mask = customer_df.loc[:, \"frequency\"] > 2\n",
    "x = customer_df.loc[mask, :]\n",
    "x[\"turbulence\"] = x[\"std_nb_d_items\"] / x[\"avg_nb_d_items\"]\n",
    "\n",
    "scat_plot(df=x,\n",
    "          x_name=\"avg_nb_d_items\",\n",
    "          y_name=\"turbulence\",\n",
    "          z_name=\"total_nb_d_items\",\n",
    "          title=\"nb_d_items\",\n",
    "          xlog=True,\n",
    "          xlim=(5, None))"
   ]
  },
  {
   "cell_type": "code",
   "execution_count": null,
   "metadata": {
    "scrolled": false
   },
   "outputs": [],
   "source": [
    "# quantity plot\n",
    "mask = customer_df.loc[:, \"frequency\"] > 2\n",
    "x = customer_df.loc[mask, :]\n",
    "x[\"turbulence\"] = x[\"std_quantity\"]/x[\"avg_quantity\"]\n",
    "\n",
    "scat_plot(df=x,\n",
    "          x_name=\"avg_quantity\", \n",
    "          y_name=\"turbulence\", \n",
    "          z_name=\"total_quantity\",\n",
    "          title=\"quantity\",\n",
    "          xlog=True,\n",
    "          xlim=(50,None))"
   ]
  },
  {
   "cell_type": "code",
   "execution_count": null,
   "metadata": {
    "scrolled": false
   },
   "outputs": [],
   "source": [
    "# frequency\n",
    "scat_plot(df=customer_df,\n",
    "          x_name=\"avg_nb_d_items\",\n",
    "          y_name=\"frequency\",\n",
    "          z_name=\"avg_quantity\",\n",
    "          title=\"frequency\",\n",
    "          xlim=(0,200),\n",
    "          ylim=(0,50))"
   ]
  },
  {
   "cell_type": "code",
   "execution_count": null,
   "metadata": {},
   "outputs": [],
   "source": [
    "# promo\n",
    "scat_plot(df=customer_df,\n",
    "          x_name=\"avg_basket\",\n",
    "          y_name=\"promo\",\n",
    "          z_name=\"total_basket\",\n",
    "          title=\"promo\",\n",
    "          xlim=(0, 1500),\n",
    "           ylim=(0,0.5))"
   ]
  },
  {
   "cell_type": "code",
   "execution_count": null,
   "metadata": {},
   "outputs": [],
   "source": [
    "# export customer_df\n",
    "customer_df.to_csv(\"customer_df.csv\")"
   ]
  }
 ],
 "metadata": {
  "kernelspec": {
   "display_name": "Python 3",
   "language": "python",
   "name": "python3"
  },
  "language_info": {
   "codemirror_mode": {
    "name": "ipython",
    "version": 3
   },
   "file_extension": ".py",
   "mimetype": "text/x-python",
   "name": "python",
   "nbconvert_exporter": "python",
   "pygments_lexer": "ipython3",
   "version": "3.6.7"
  }
 },
 "nbformat": 4,
 "nbformat_minor": 2
}
